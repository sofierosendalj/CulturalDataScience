{
 "cells": [
  {
   "cell_type": "markdown",
   "id": "5689c2fb-5f43-49f6-8640-88ebaf54446d",
   "metadata": {},
   "source": [
    "# CDS assignment 1\n",
    "## Jupyter notebook from UCloud to Github"
   ]
  },
  {
   "cell_type": "code",
   "execution_count": null,
   "id": "1dd140eb-493a-4727-bc5f-1f7cadee6acd",
   "metadata": {},
   "outputs": [],
   "source": []
  }
 ],
 "metadata": {
  "kernelspec": {
   "display_name": "Python 3 ",
   "language": "python",
   "name": "python3"
  },
  "language_info": {
   "codemirror_mode": {
    "name": "ipython",
    "version": 3
   },
   "file_extension": ".py",
   "mimetype": "text/x-python",
   "name": "python",
   "nbconvert_exporter": "python",
   "pygments_lexer": "ipython3",
   "version": "3.10.14"
  }
 },
 "nbformat": 4,
 "nbformat_minor": 5
}
