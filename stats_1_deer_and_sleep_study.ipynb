{
 "cells": [
  {
   "cell_type": "markdown",
   "id": "1a846cfe-d705-4f1f-866b-b4b370af384d",
   "metadata": {},
   "source": [
    "# Part 1 - The basics"
   ]
  },
  {
   "cell_type": "markdown",
   "id": "223204e5-f880-46d3-b81f-63e24071759b",
   "metadata": {},
   "source": [
    "R is just a calculator."
   ]
  },
  {
   "cell_type": "code",
   "execution_count": 1,
   "id": "21e221b0-07e2-49e1-b9a9-c3950d59cf3d",
   "metadata": {},
   "outputs": [
    {
     "data": {
      "text/html": [
       "6"
      ],
      "text/latex": [
       "6"
      ],
      "text/markdown": [
       "6"
      ],
      "text/plain": [
       "[1] 6"
      ]
     },
     "metadata": {},
     "output_type": "display_data"
    }
   ],
   "source": [
    "4+2"
   ]
  },
  {
   "cell_type": "code",
   "execution_count": 2,
   "id": "265925a8-24b1-497f-ad40-fb97d803ce77",
   "metadata": {},
   "outputs": [
    {
     "data": {
      "text/html": [
       "2"
      ],
      "text/latex": [
       "2"
      ],
      "text/markdown": [
       "2"
      ],
      "text/plain": [
       "[1] 2"
      ]
     },
     "metadata": {},
     "output_type": "display_data"
    }
   ],
   "source": [
    "4-2"
   ]
  },
  {
   "cell_type": "markdown",
   "id": "5acd0cf3-6792-4e36-8e68-79c022c09f93",
   "metadata": {},
   "source": [
    "There is special syntax for multiplication and division."
   ]
  },
  {
   "cell_type": "code",
   "execution_count": 3,
   "id": "b77555ea-1d89-4527-a565-5c1966606e2d",
   "metadata": {},
   "outputs": [
    {
     "data": {
      "text/html": [
       "8"
      ],
      "text/latex": [
       "8"
      ],
      "text/markdown": [
       "8"
      ],
      "text/plain": [
       "[1] 8"
      ]
     },
     "metadata": {},
     "output_type": "display_data"
    }
   ],
   "source": [
    "4*2"
   ]
  },
  {
   "cell_type": "code",
   "execution_count": 4,
   "id": "ef1d5efe-3dea-40dd-b96c-88ad80fb0a15",
   "metadata": {},
   "outputs": [
    {
     "data": {
      "text/html": [
       "3"
      ],
      "text/latex": [
       "3"
      ],
      "text/markdown": [
       "3"
      ],
      "text/plain": [
       "[1] 3"
      ]
     },
     "metadata": {},
     "output_type": "display_data"
    }
   ],
   "source": [
    "12/4"
   ]
  },
  {
   "cell_type": "markdown",
   "id": "74e06cd4-c9cc-46cd-91eb-154947ae895a",
   "metadata": {},
   "source": [
    "We can also assign numbers to variables and to operations."
   ]
  },
  {
   "cell_type": "code",
   "execution_count": 7,
   "id": "ffbb4db1-36f8-4371-b860-b9e1136b93b7",
   "metadata": {},
   "outputs": [
    {
     "data": {
      "text/html": [
       "6"
      ],
      "text/latex": [
       "6"
      ],
      "text/markdown": [
       "6"
      ],
      "text/plain": [
       "[1] 6"
      ]
     },
     "metadata": {},
     "output_type": "display_data"
    }
   ],
   "source": [
    "variable1 <- 4\n",
    "variable2 <- 2\n",
    "\n",
    "variable1 + variable2"
   ]
  },
  {
   "cell_type": "markdown",
   "id": "e849af61-59e4-4c22-8359-93fbf214c73b",
   "metadata": {},
   "source": [
    "A function is just something with an input and an output."
   ]
  },
  {
   "cell_type": "code",
   "execution_count": 8,
   "id": "61462036-ed36-4270-a768-fd130530865e",
   "metadata": {},
   "outputs": [
    {
     "data": {
      "text/html": [
       "6"
      ],
      "text/latex": [
       "6"
      ],
      "text/markdown": [
       "6"
      ],
      "text/plain": [
       "[1] 6"
      ]
     },
     "metadata": {},
     "output_type": "display_data"
    }
   ],
   "source": [
    "sum(4, 2)"
   ]
  },
  {
   "cell_type": "code",
   "execution_count": 10,
   "id": "c5260e87-8683-4e6b-91ab-383c9637aa76",
   "metadata": {},
   "outputs": [
    {
     "data": {
      "text/html": [
       "2"
      ],
      "text/latex": [
       "2"
      ],
      "text/markdown": [
       "2"
      ],
      "text/plain": [
       "[1] 2"
      ]
     },
     "metadata": {},
     "output_type": "display_data"
    }
   ],
   "source": [
    "sqrt(4) # squareroot"
   ]
  },
  {
   "cell_type": "code",
   "execution_count": 12,
   "id": "11c137cb-3fb2-4a4d-8b27-6b59f52739a9",
   "metadata": {},
   "outputs": [
    {
     "data": {
      "text/html": [
       "6"
      ],
      "text/latex": [
       "6"
      ],
      "text/markdown": [
       "6"
      ],
      "text/plain": [
       "[1] 6"
      ]
     },
     "metadata": {},
     "output_type": "display_data"
    }
   ],
   "source": [
    "sum(variable1, variable2) # also applies to variables"
   ]
  },
  {
   "cell_type": "markdown",
   "id": "3e91f7cc-255b-48f4-ab57-eb7391ee4abb",
   "metadata": {},
   "source": [
    "# Part 2 - A bit more advanced"
   ]
  },
  {
   "cell_type": "markdown",
   "id": "248b1114-2884-4f05-bffc-56e160aea5cc",
   "metadata": {},
   "source": [
    "The nice thing about R is that unlike on a calculator, you can keep track of your operations. This is important for reproducing your work, and doing more complicated stuff. Let's look at some of this more complicated stuff!"
   ]
  },
  {
   "cell_type": "markdown",
   "id": "ac06ad57-0aeb-4026-94da-8c7c106cf4f5",
   "metadata": {},
   "source": [
    "We can assign lists of numbers to variables. This is called an array.\n",
    "'c' is just a function. It means 'concatenate'."
   ]
  },
  {
   "cell_type": "code",
   "execution_count": 53,
   "id": "4e6a29ac-95f4-4fb9-990b-8a62069bcd76",
   "metadata": {},
   "outputs": [],
   "source": [
    "listOfNumbers1 <- c(1, 2, 3, 4, 5)\n",
    "listOfNumbers2 <- c(2, 2, 2, 2, 2)"
   ]
  },
  {
   "cell_type": "markdown",
   "id": "c24e1454-776f-4daf-a99e-25200904b9ee",
   "metadata": {},
   "source": [
    "We can do operations on lists too, the same as for simpler variables.\n",
    "We can make a new variable in the process."
   ]
  },
  {
   "cell_type": "code",
   "execution_count": 16,
   "id": "aba7981c-75e6-4f6d-a5cf-9820890daa6b",
   "metadata": {},
   "outputs": [
    {
     "name": "stderr",
     "output_type": "stream",
     "text": [
      "Warning message in listOfNumbers1 + listOfNumbers2:\n",
      "“longer object length is not a multiple of shorter object length”\n"
     ]
    }
   ],
   "source": [
    "listsAdded <- listOfNumbers1 + listOfNumbers2"
   ]
  },
  {
   "cell_type": "markdown",
   "id": "9bc9f880-9552-48c3-9e09-18c606f30a30",
   "metadata": {},
   "source": [
    "To see the output, you need to call the variable directly."
   ]
  },
  {
   "cell_type": "code",
   "execution_count": 17,
   "id": "2860fb03-b59f-414b-87a2-7f181486fee2",
   "metadata": {},
   "outputs": [
    {
     "data": {
      "text/html": [
       "<style>\n",
       ".list-inline {list-style: none; margin:0; padding: 0}\n",
       ".list-inline>li {display: inline-block}\n",
       ".list-inline>li:not(:last-child)::after {content: \"\\00b7\"; padding: 0 .5ex}\n",
       "</style>\n",
       "<ol class=list-inline><li>3</li><li>4</li><li>5</li><li>6</li><li>7</li></ol>\n"
      ],
      "text/latex": [
       "\\begin{enumerate*}\n",
       "\\item 3\n",
       "\\item 4\n",
       "\\item 5\n",
       "\\item 6\n",
       "\\item 7\n",
       "\\end{enumerate*}\n"
      ],
      "text/markdown": [
       "1. 3\n",
       "2. 4\n",
       "3. 5\n",
       "4. 6\n",
       "5. 7\n",
       "\n",
       "\n"
      ],
      "text/plain": [
       "[1] 3 4 5 6 7"
      ]
     },
     "metadata": {},
     "output_type": "display_data"
    }
   ],
   "source": [
    "listsAdded"
   ]
  },
  {
   "cell_type": "markdown",
   "id": "acfd0860-c27e-4e04-b5ba-ab599b7f9986",
   "metadata": {},
   "source": [
    "We can use other functions to make lists. We can make sequences..."
   ]
  },
  {
   "cell_type": "code",
   "execution_count": 20,
   "id": "df9fb366-73e2-41f9-95ae-dbb3c2cc57c3",
   "metadata": {},
   "outputs": [
    {
     "data": {
      "text/html": [
       "<style>\n",
       ".list-inline {list-style: none; margin:0; padding: 0}\n",
       ".list-inline>li {display: inline-block}\n",
       ".list-inline>li:not(:last-child)::after {content: \"\\00b7\"; padding: 0 .5ex}\n",
       "</style>\n",
       "<ol class=list-inline><li>1</li><li>2</li><li>3</li><li>4</li><li>5</li></ol>\n"
      ],
      "text/latex": [
       "\\begin{enumerate*}\n",
       "\\item 1\n",
       "\\item 2\n",
       "\\item 3\n",
       "\\item 4\n",
       "\\item 5\n",
       "\\end{enumerate*}\n"
      ],
      "text/markdown": [
       "1. 1\n",
       "2. 2\n",
       "3. 3\n",
       "4. 4\n",
       "5. 5\n",
       "\n",
       "\n"
      ],
      "text/plain": [
       "[1] 1 2 3 4 5"
      ]
     },
     "metadata": {},
     "output_type": "display_data"
    }
   ],
   "source": [
    "sequence <- seq(1, 5, 1) # numbers from 1 to 5\n",
    "sequence"
   ]
  },
  {
   "cell_type": "markdown",
   "id": "2fb47e4b-4003-47a5-b65f-5eb3ce8450a6",
   "metadata": {},
   "source": [
    "...or repeat numbers"
   ]
  },
  {
   "cell_type": "code",
   "execution_count": 22,
   "id": "8a60419c-b130-421d-b220-41465cf63a47",
   "metadata": {},
   "outputs": [
    {
     "data": {
      "text/html": [
       "<style>\n",
       ".list-inline {list-style: none; margin:0; padding: 0}\n",
       ".list-inline>li {display: inline-block}\n",
       ".list-inline>li:not(:last-child)::after {content: \"\\00b7\"; padding: 0 .5ex}\n",
       "</style>\n",
       "<ol class=list-inline><li>2</li><li>2</li><li>2</li><li>2</li><li>2</li></ol>\n"
      ],
      "text/latex": [
       "\\begin{enumerate*}\n",
       "\\item 2\n",
       "\\item 2\n",
       "\\item 2\n",
       "\\item 2\n",
       "\\item 2\n",
       "\\end{enumerate*}\n"
      ],
      "text/markdown": [
       "1. 2\n",
       "2. 2\n",
       "3. 2\n",
       "4. 2\n",
       "5. 2\n",
       "\n",
       "\n"
      ],
      "text/plain": [
       "[1] 2 2 2 2 2"
      ]
     },
     "metadata": {},
     "output_type": "display_data"
    }
   ],
   "source": [
    "repeating <- rep(2,5) # repeat the number 2 fives times\n",
    "repeating"
   ]
  },
  {
   "cell_type": "markdown",
   "id": "ceb4a06c-2759-42d7-b834-c66398ac717c",
   "metadata": {},
   "source": [
    "We can also generate random lists."
   ]
  },
  {
   "cell_type": "code",
   "execution_count": 23,
   "id": "a0b7baea-94b1-4e6e-8285-fb166af80ca8",
   "metadata": {},
   "outputs": [],
   "source": [
    "# We can draw from different distributions\n",
    "\n",
    "# uniform distribution\n",
    "weight1 <- runif(30, 60, 120)\n",
    "weight2 <- runif(30, 80, 140)"
   ]
  },
  {
   "cell_type": "markdown",
   "id": "a9b41cdd-8549-426c-a63a-c48eaef7bebb",
   "metadata": {},
   "source": [
    "A uniform distribution is a probability distribution in which all outcomes are equally likely, resulting in a constant probability density across a specified interval."
   ]
  },
  {
   "cell_type": "markdown",
   "id": "79545d3b-fcaa-4cef-8c6b-ede5ac095ebe",
   "metadata": {},
   "source": [
    "If you are unsure about how a function works, there's a built-in way to get help:"
   ]
  },
  {
   "cell_type": "code",
   "execution_count": 25,
   "id": "f032b628-f242-4e9a-a621-b48c232cf34a",
   "metadata": {},
   "outputs": [
    {
     "data": {
      "text/html": [
       "\n",
       "<table style=\"width: 100%;\"><tr><td>Uniform {stats}</td><td style=\"text-align: right;\">R Documentation</td></tr></table>\n",
       "\n",
       "<h2>The Uniform Distribution</h2>\n",
       "\n",
       "<h3>Description</h3>\n",
       "\n",
       "<p>These functions provide information about the uniform distribution\n",
       "on the interval from <code>min</code> to <code>max</code>.  <code>dunif</code> gives the\n",
       "density, <code>punif</code> gives the distribution function <code>qunif</code>\n",
       "gives the quantile function and <code>runif</code> generates random\n",
       "deviates.\n",
       "</p>\n",
       "\n",
       "\n",
       "<h3>Usage</h3>\n",
       "\n",
       "<pre><code class='language-R'>dunif(x, min = 0, max = 1, log = FALSE)\n",
       "punif(q, min = 0, max = 1, lower.tail = TRUE, log.p = FALSE)\n",
       "qunif(p, min = 0, max = 1, lower.tail = TRUE, log.p = FALSE)\n",
       "runif(n, min = 0, max = 1)\n",
       "</code></pre>\n",
       "\n",
       "\n",
       "<h3>Arguments</h3>\n",
       "\n",
       "<table>\n",
       "<tr><td><code id=\"x\">x</code>, <code id=\"q\">q</code></td>\n",
       "<td>\n",
       "<p>vector of quantiles.</p>\n",
       "</td></tr>\n",
       "<tr><td><code id=\"p\">p</code></td>\n",
       "<td>\n",
       "<p>vector of probabilities.</p>\n",
       "</td></tr>\n",
       "<tr><td><code id=\"n\">n</code></td>\n",
       "<td>\n",
       "<p>number of observations. If <code>length(n) &gt; 1</code>, the length\n",
       "is taken to be the number required.</p>\n",
       "</td></tr>\n",
       "<tr><td><code id=\"min\">min</code>, <code id=\"max\">max</code></td>\n",
       "<td>\n",
       "<p>lower and upper limits of the distribution.  Must be finite.</p>\n",
       "</td></tr>\n",
       "<tr><td><code id=\"log\">log</code>, <code id=\"log.p\">log.p</code></td>\n",
       "<td>\n",
       "<p>logical; if TRUE, probabilities p are given as log(p).</p>\n",
       "</td></tr>\n",
       "<tr><td><code id=\"lower.tail\">lower.tail</code></td>\n",
       "<td>\n",
       "<p>logical; if TRUE (default), probabilities are\n",
       "<code class=\"reqn\">P[X \\le x]</code>, otherwise, <code class=\"reqn\">P[X &gt; x]</code>.</p>\n",
       "</td></tr>\n",
       "</table>\n",
       "\n",
       "\n",
       "<h3>Details</h3>\n",
       "\n",
       "<p>If <code>min</code> or <code>max</code> are not specified they assume the default\n",
       "values of <code>0</code> and <code>1</code> respectively.\n",
       "</p>\n",
       "<p>The uniform distribution has density\n",
       "</p>\n",
       "<p style=\"text-align: center;\"><code class=\"reqn\">f(x) = \\frac{1}{max-min}</code>\n",
       "</p>\n",
       "\n",
       "<p>for <code class=\"reqn\">min \\le x \\le max</code>.\n",
       "</p>\n",
       "<p>For the case of <code class=\"reqn\">u := min == max</code>, the limit case of\n",
       "<code class=\"reqn\">X \\equiv u</code> is assumed, although there is no density in\n",
       "that case and <code>dunif</code> will return <code>NaN</code> (the error condition).\n",
       "</p>\n",
       "<p><code>runif</code> will not generate either of the extreme values unless\n",
       "<code>max = min</code> or <code>max-min</code> is small compared to <code>min</code>,\n",
       "and in particular not for the default arguments.\n",
       "</p>\n",
       "\n",
       "\n",
       "<h3>Value</h3>\n",
       "\n",
       "<p><code>dunif</code> gives the density,\n",
       "<code>punif</code> gives the distribution function,\n",
       "<code>qunif</code> gives the quantile function, and\n",
       "<code>runif</code> generates random deviates.\n",
       "</p>\n",
       "<p>The length of the result is determined by <code>n</code> for\n",
       "<code>runif</code>, and is the maximum of the lengths of the\n",
       "numerical arguments for the other functions.  \n",
       "</p>\n",
       "<p>The numerical arguments other than <code>n</code> are recycled to the\n",
       "length of the result.  Only the first elements of the logical\n",
       "arguments are used.\n",
       "</p>\n",
       "\n",
       "\n",
       "<h3>Note</h3>\n",
       "\n",
       "<p>The characteristics of output from pseudo-random number generators\n",
       "(such as precision and periodicity) vary widely.  See\n",
       "<code>.Random.seed</code> for more information on <span class=\"rlang\"><b>R</b></span>'s random number\n",
       "generation algorithms.\n",
       "</p>\n",
       "\n",
       "\n",
       "<h3>References</h3>\n",
       "\n",
       "<p>Becker, R. A., Chambers, J. M. and Wilks, A. R. (1988)\n",
       "<em>The New S Language</em>.\n",
       "Wadsworth &amp; Brooks/Cole.\n",
       "</p>\n",
       "\n",
       "\n",
       "<h3>See Also</h3>\n",
       "\n",
       "<p><code>RNG</code> about random number generation in <span class=\"rlang\"><b>R</b></span>.\n",
       "</p>\n",
       "<p>Distributions for other standard distributions.\n",
       "</p>\n",
       "\n",
       "\n",
       "<h3>Examples</h3>\n",
       "\n",
       "<pre><code class='language-R'>u &lt;- runif(20)\n",
       "\n",
       "## The following relations always hold :\n",
       "punif(u) == u\n",
       "dunif(u) == 1\n",
       "\n",
       "var(runif(10000))  #- ~ = 1/12 = .08333\n",
       "</code></pre>\n",
       "\n",
       "<hr /><div style=\"text-align: center;\">[Package <em>stats</em> version 4.4.1 ]</div></main>\n",
       "\n",
       "</div>"
      ],
      "text/latex": [
       "\\inputencoding{utf8}\n",
       "\\HeaderA{Uniform}{The Uniform Distribution}{Uniform}\n",
       "\\aliasA{dunif}{Uniform}{dunif}\n",
       "\\aliasA{punif}{Uniform}{punif}\n",
       "\\aliasA{qunif}{Uniform}{qunif}\n",
       "\\aliasA{runif}{Uniform}{runif}\n",
       "\\keyword{distribution}{Uniform}\n",
       "%\n",
       "\\begin{Description}\n",
       "These functions provide information about the uniform distribution\n",
       "on the interval from \\code{min} to \\code{max}.  \\code{dunif} gives the\n",
       "density, \\code{punif} gives the distribution function \\code{qunif}\n",
       "gives the quantile function and \\code{runif} generates random\n",
       "deviates.\n",
       "\\end{Description}\n",
       "%\n",
       "\\begin{Usage}\n",
       "\\begin{verbatim}\n",
       "dunif(x, min = 0, max = 1, log = FALSE)\n",
       "punif(q, min = 0, max = 1, lower.tail = TRUE, log.p = FALSE)\n",
       "qunif(p, min = 0, max = 1, lower.tail = TRUE, log.p = FALSE)\n",
       "runif(n, min = 0, max = 1)\n",
       "\\end{verbatim}\n",
       "\\end{Usage}\n",
       "%\n",
       "\\begin{Arguments}\n",
       "\\begin{ldescription}\n",
       "\\item[\\code{x}, \\code{q}] vector of quantiles.\n",
       "\\item[\\code{p}] vector of probabilities.\n",
       "\\item[\\code{n}] number of observations. If \\code{length(n) > 1}, the length\n",
       "is taken to be the number required.\n",
       "\\item[\\code{min}, \\code{max}] lower and upper limits of the distribution.  Must be finite.\n",
       "\\item[\\code{log}, \\code{log.p}] logical; if TRUE, probabilities p are given as log(p).\n",
       "\\item[\\code{lower.tail}] logical; if TRUE (default), probabilities are\n",
       "\\eqn{P[X \\le x]}{}, otherwise, \\eqn{P[X > x]}{}.\n",
       "\\end{ldescription}\n",
       "\\end{Arguments}\n",
       "%\n",
       "\\begin{Details}\n",
       "If \\code{min} or \\code{max} are not specified they assume the default\n",
       "values of \\code{0} and \\code{1} respectively.\n",
       "\n",
       "The uniform distribution has density\n",
       "\\deqn{f(x) = \\frac{1}{max-min}}{}\n",
       "for \\eqn{min \\le x \\le max}{}.\n",
       "\n",
       "For the case of \\eqn{u := min == max}{}, the limit case of\n",
       "\\eqn{X \\equiv u}{} is assumed, although there is no density in\n",
       "that case and \\code{dunif} will return \\code{NaN} (the error condition).\n",
       "\n",
       "\\code{runif} will not generate either of the extreme values unless\n",
       "\\code{max = min} or \\code{max-min} is small compared to \\code{min},\n",
       "and in particular not for the default arguments.\n",
       "\\end{Details}\n",
       "%\n",
       "\\begin{Value}\n",
       "\\code{dunif} gives the density,\n",
       "\\code{punif} gives the distribution function,\n",
       "\\code{qunif} gives the quantile function, and\n",
       "\\code{runif} generates random deviates.\n",
       "\n",
       "The length of the result is determined by \\code{n} for\n",
       "\\code{runif}, and is the maximum of the lengths of the\n",
       "numerical arguments for the other functions.  \n",
       "\n",
       "The numerical arguments other than \\code{n} are recycled to the\n",
       "length of the result.  Only the first elements of the logical\n",
       "arguments are used.\n",
       "\\end{Value}\n",
       "%\n",
       "\\begin{Note}\n",
       "The characteristics of output from pseudo-random number generators\n",
       "(such as precision and periodicity) vary widely.  See\n",
       "\\code{\\LinkA{.Random.seed}{.Random.seed}} for more information on \\R{}'s random number\n",
       "generation algorithms.\n",
       "\\end{Note}\n",
       "%\n",
       "\\begin{References}\n",
       "Becker, R. A., Chambers, J. M. and Wilks, A. R. (1988)\n",
       "\\emph{The New S Language}.\n",
       "Wadsworth \\& Brooks/Cole.\n",
       "\\end{References}\n",
       "%\n",
       "\\begin{SeeAlso}\n",
       "\\code{\\LinkA{RNG}{RNG}} about random number generation in \\R{}.\n",
       "\n",
       "\\LinkA{Distributions}{Distributions} for other standard distributions.\n",
       "\\end{SeeAlso}\n",
       "%\n",
       "\\begin{Examples}\n",
       "\\begin{ExampleCode}\n",
       "u <- runif(20)\n",
       "\n",
       "## The following relations always hold :\n",
       "punif(u) == u\n",
       "dunif(u) == 1\n",
       "\n",
       "var(runif(10000))  #- ~ = 1/12 = .08333\n",
       "\\end{ExampleCode}\n",
       "\\end{Examples}"
      ],
      "text/plain": [
       "Uniform                 package:stats                  R Documentation\n",
       "\n",
       "_\bT_\bh_\be _\bU_\bn_\bi_\bf_\bo_\br_\bm _\bD_\bi_\bs_\bt_\br_\bi_\bb_\bu_\bt_\bi_\bo_\bn\n",
       "\n",
       "_\bD_\be_\bs_\bc_\br_\bi_\bp_\bt_\bi_\bo_\bn:\n",
       "\n",
       "     These functions provide information about the uniform distribution\n",
       "     on the interval from ‘min’ to ‘max’.  ‘dunif’ gives the density,\n",
       "     ‘punif’ gives the distribution function ‘qunif’ gives the quantile\n",
       "     function and ‘runif’ generates random deviates.\n",
       "\n",
       "_\bU_\bs_\ba_\bg_\be:\n",
       "\n",
       "     dunif(x, min = 0, max = 1, log = FALSE)\n",
       "     punif(q, min = 0, max = 1, lower.tail = TRUE, log.p = FALSE)\n",
       "     qunif(p, min = 0, max = 1, lower.tail = TRUE, log.p = FALSE)\n",
       "     runif(n, min = 0, max = 1)\n",
       "     \n",
       "_\bA_\br_\bg_\bu_\bm_\be_\bn_\bt_\bs:\n",
       "\n",
       "    x, q: vector of quantiles.\n",
       "\n",
       "       p: vector of probabilities.\n",
       "\n",
       "       n: number of observations. If ‘length(n) > 1’, the length is\n",
       "          taken to be the number required.\n",
       "\n",
       "min, max: lower and upper limits of the distribution.  Must be finite.\n",
       "\n",
       "log, log.p: logical; if TRUE, probabilities p are given as log(p).\n",
       "\n",
       "lower.tail: logical; if TRUE (default), probabilities are P[X <= x],\n",
       "          otherwise, P[X > x].\n",
       "\n",
       "_\bD_\be_\bt_\ba_\bi_\bl_\bs:\n",
       "\n",
       "     If ‘min’ or ‘max’ are not specified they assume the default values\n",
       "     of ‘0’ and ‘1’ respectively.\n",
       "\n",
       "     The uniform distribution has density\n",
       "\n",
       "                             f(x) = 1/(max-min)                         \n",
       "     \n",
       "     for min <= x <= max.\n",
       "\n",
       "     For the case of u := min == max, the limit case of X == u is\n",
       "     assumed, although there is no density in that case and ‘dunif’\n",
       "     will return ‘NaN’ (the error condition).\n",
       "\n",
       "     ‘runif’ will not generate either of the extreme values unless ‘max\n",
       "     = min’ or ‘max-min’ is small compared to ‘min’, and in particular\n",
       "     not for the default arguments.\n",
       "\n",
       "_\bV_\ba_\bl_\bu_\be:\n",
       "\n",
       "     ‘dunif’ gives the density, ‘punif’ gives the distribution\n",
       "     function, ‘qunif’ gives the quantile function, and ‘runif’\n",
       "     generates random deviates.\n",
       "\n",
       "     The length of the result is determined by ‘n’ for ‘runif’, and is\n",
       "     the maximum of the lengths of the numerical arguments for the\n",
       "     other functions.\n",
       "\n",
       "     The numerical arguments other than ‘n’ are recycled to the length\n",
       "     of the result.  Only the first elements of the logical arguments\n",
       "     are used.\n",
       "\n",
       "_\bN_\bo_\bt_\be:\n",
       "\n",
       "     The characteristics of output from pseudo-random number generators\n",
       "     (such as precision and periodicity) vary widely.  See\n",
       "     ‘.Random.seed’ for more information on R's random number\n",
       "     generation algorithms.\n",
       "\n",
       "_\bR_\be_\bf_\be_\br_\be_\bn_\bc_\be_\bs:\n",
       "\n",
       "     Becker, R. A., Chambers, J. M. and Wilks, A. R. (1988) _The New S\n",
       "     Language_.  Wadsworth & Brooks/Cole.\n",
       "\n",
       "_\bS_\be_\be _\bA_\bl_\bs_\bo:\n",
       "\n",
       "     ‘RNG’ about random number generation in R.\n",
       "\n",
       "     Distributions for other standard distributions.\n",
       "\n",
       "_\bE_\bx_\ba_\bm_\bp_\bl_\be_\bs:\n",
       "\n",
       "     u <- runif(20)\n",
       "     \n",
       "     ## The following relations always hold :\n",
       "     punif(u) == u\n",
       "     dunif(u) == 1\n",
       "     \n",
       "     var(runif(10000))  #- ~ = 1/12 = .08333\n",
       "     "
      ]
     },
     "metadata": {},
     "output_type": "display_data"
    }
   ],
   "source": [
    "?runif # use the question mark to see descriptions, usage etc. of a function"
   ]
  },
  {
   "cell_type": "markdown",
   "id": "a2698634-aee6-4790-9067-9a70003b55cb",
   "metadata": {},
   "source": [
    "We don't have to use a uniform distribution. Actually, a normal distribution will be better. Let's do that instead."
   ]
  },
  {
   "cell_type": "code",
   "execution_count": 33,
   "id": "de4a1ed7-b9de-4d1c-aafb-f663ef593c78",
   "metadata": {},
   "outputs": [
    {
     "data": {
      "text/html": [
       "<style>\n",
       ".list-inline {list-style: none; margin:0; padding: 0}\n",
       ".list-inline>li {display: inline-block}\n",
       ".list-inline>li:not(:last-child)::after {content: \"\\00b7\"; padding: 0 .5ex}\n",
       "</style>\n",
       "<ol class=list-inline><li>78.1628600844571</li><li>95.5986481530919</li><li>101.416686733169</li><li>81.2325267565595</li><li>83.4450800961074</li><li>73.2132011551367</li><li>79.0030985939765</li><li>84.1191527978249</li><li>75.5151242636599</li><li>83.7913735988501</li><li>67.4953952789836</li><li>60.7468376947514</li><li>71.3091636835114</li><li>68.2596620823598</li><li>63.5843506884899</li><li>62.5946956963642</li><li>88.6449005233629</li><li>87.6460048184649</li><li>89.8650564584189</li><li>75.0923280730465</li><li>87.431170393834</li><li>69.6517044814987</li><li>80.3091938201433</li><li>71.3258686210032</li><li>73.6622409399902</li><li>64.5968604678773</li><li>75.9894068825781</li><li>97.5475106939925</li><li>71.7594120501271</li><li>81.058341900732</li></ol>\n"
      ],
      "text/latex": [
       "\\begin{enumerate*}\n",
       "\\item 78.1628600844571\n",
       "\\item 95.5986481530919\n",
       "\\item 101.416686733169\n",
       "\\item 81.2325267565595\n",
       "\\item 83.4450800961074\n",
       "\\item 73.2132011551367\n",
       "\\item 79.0030985939765\n",
       "\\item 84.1191527978249\n",
       "\\item 75.5151242636599\n",
       "\\item 83.7913735988501\n",
       "\\item 67.4953952789836\n",
       "\\item 60.7468376947514\n",
       "\\item 71.3091636835114\n",
       "\\item 68.2596620823598\n",
       "\\item 63.5843506884899\n",
       "\\item 62.5946956963642\n",
       "\\item 88.6449005233629\n",
       "\\item 87.6460048184649\n",
       "\\item 89.8650564584189\n",
       "\\item 75.0923280730465\n",
       "\\item 87.431170393834\n",
       "\\item 69.6517044814987\n",
       "\\item 80.3091938201433\n",
       "\\item 71.3258686210032\n",
       "\\item 73.6622409399902\n",
       "\\item 64.5968604678773\n",
       "\\item 75.9894068825781\n",
       "\\item 97.5475106939925\n",
       "\\item 71.7594120501271\n",
       "\\item 81.058341900732\n",
       "\\end{enumerate*}\n"
      ],
      "text/markdown": [
       "1. 78.1628600844571\n",
       "2. 95.5986481530919\n",
       "3. 101.416686733169\n",
       "4. 81.2325267565595\n",
       "5. 83.4450800961074\n",
       "6. 73.2132011551367\n",
       "7. 79.0030985939765\n",
       "8. 84.1191527978249\n",
       "9. 75.5151242636599\n",
       "10. 83.7913735988501\n",
       "11. 67.4953952789836\n",
       "12. 60.7468376947514\n",
       "13. 71.3091636835114\n",
       "14. 68.2596620823598\n",
       "15. 63.5843506884899\n",
       "16. 62.5946956963642\n",
       "17. 88.6449005233629\n",
       "18. 87.6460048184649\n",
       "19. 89.8650564584189\n",
       "20. 75.0923280730465\n",
       "21. 87.431170393834\n",
       "22. 69.6517044814987\n",
       "23. 80.3091938201433\n",
       "24. 71.3258686210032\n",
       "25. 73.6622409399902\n",
       "26. 64.5968604678773\n",
       "27. 75.9894068825781\n",
       "28. 97.5475106939925\n",
       "29. 71.7594120501271\n",
       "30. 81.058341900732\n",
       "\n",
       "\n"
      ],
      "text/plain": [
       " [1]  78.16286  95.59865 101.41669  81.23253  83.44508  73.21320  79.00310\n",
       " [8]  84.11915  75.51512  83.79137  67.49540  60.74684  71.30916  68.25966\n",
       "[15]  63.58435  62.59470  88.64490  87.64600  89.86506  75.09233  87.43117\n",
       "[22]  69.65170  80.30919  71.32587  73.66224  64.59686  75.98941  97.54751\n",
       "[29]  71.75941  81.05834"
      ]
     },
     "metadata": {},
     "output_type": "display_data"
    }
   ],
   "source": [
    "# normal distribution\n",
    "\n",
    "weight1 <- rnorm(30, 60, 10) # we want 30 numbers, 60 to be the mean, and the standard deviation to be 10\n",
    "weight2 <- rnorm(30, 80, 10)\n",
    "weight2 # just a big list of numbers"
   ]
  },
  {
   "cell_type": "markdown",
   "id": "96fb9a30-367e-403a-8058-24b0715b1611",
   "metadata": {},
   "source": [
    "A normal distribution is a symmetric, bell-shaped probability distribution characterized by its mean and standard deviation, where approximately 68% of the data falls within one standard deviation of the mean."
   ]
  },
  {
   "cell_type": "markdown",
   "id": "a1468e8b-d238-4885-9d26-4502e6da5308",
   "metadata": {},
   "source": [
    "We can also make lists of words. This can be useful if our variables are categorical. "
   ]
  },
  {
   "cell_type": "code",
   "execution_count": 31,
   "id": "70879df2-7725-443e-8208-c4954b30a138",
   "metadata": {},
   "outputs": [],
   "source": [
    "species1 <- rep(\"Deer\", 30)\n",
    "species2 <- rep(\"Reindeer\", 30)"
   ]
  },
  {
   "cell_type": "code",
   "execution_count": 32,
   "id": "95693cb7-2403-436e-b06a-bf57d30d04d5",
   "metadata": {},
   "outputs": [
    {
     "data": {
      "text/html": [
       "<style>\n",
       ".list-inline {list-style: none; margin:0; padding: 0}\n",
       ".list-inline>li {display: inline-block}\n",
       ".list-inline>li:not(:last-child)::after {content: \"\\00b7\"; padding: 0 .5ex}\n",
       "</style>\n",
       "<ol class=list-inline><li>'Reindeer'</li><li>'Reindeer'</li><li>'Reindeer'</li><li>'Reindeer'</li><li>'Reindeer'</li><li>'Reindeer'</li><li>'Reindeer'</li><li>'Reindeer'</li><li>'Reindeer'</li><li>'Reindeer'</li><li>'Reindeer'</li><li>'Reindeer'</li><li>'Reindeer'</li><li>'Reindeer'</li><li>'Reindeer'</li><li>'Reindeer'</li><li>'Reindeer'</li><li>'Reindeer'</li><li>'Reindeer'</li><li>'Reindeer'</li><li>'Reindeer'</li><li>'Reindeer'</li><li>'Reindeer'</li><li>'Reindeer'</li><li>'Reindeer'</li><li>'Reindeer'</li><li>'Reindeer'</li><li>'Reindeer'</li><li>'Reindeer'</li><li>'Reindeer'</li></ol>\n"
      ],
      "text/latex": [
       "\\begin{enumerate*}\n",
       "\\item 'Reindeer'\n",
       "\\item 'Reindeer'\n",
       "\\item 'Reindeer'\n",
       "\\item 'Reindeer'\n",
       "\\item 'Reindeer'\n",
       "\\item 'Reindeer'\n",
       "\\item 'Reindeer'\n",
       "\\item 'Reindeer'\n",
       "\\item 'Reindeer'\n",
       "\\item 'Reindeer'\n",
       "\\item 'Reindeer'\n",
       "\\item 'Reindeer'\n",
       "\\item 'Reindeer'\n",
       "\\item 'Reindeer'\n",
       "\\item 'Reindeer'\n",
       "\\item 'Reindeer'\n",
       "\\item 'Reindeer'\n",
       "\\item 'Reindeer'\n",
       "\\item 'Reindeer'\n",
       "\\item 'Reindeer'\n",
       "\\item 'Reindeer'\n",
       "\\item 'Reindeer'\n",
       "\\item 'Reindeer'\n",
       "\\item 'Reindeer'\n",
       "\\item 'Reindeer'\n",
       "\\item 'Reindeer'\n",
       "\\item 'Reindeer'\n",
       "\\item 'Reindeer'\n",
       "\\item 'Reindeer'\n",
       "\\item 'Reindeer'\n",
       "\\end{enumerate*}\n"
      ],
      "text/markdown": [
       "1. 'Reindeer'\n",
       "2. 'Reindeer'\n",
       "3. 'Reindeer'\n",
       "4. 'Reindeer'\n",
       "5. 'Reindeer'\n",
       "6. 'Reindeer'\n",
       "7. 'Reindeer'\n",
       "8. 'Reindeer'\n",
       "9. 'Reindeer'\n",
       "10. 'Reindeer'\n",
       "11. 'Reindeer'\n",
       "12. 'Reindeer'\n",
       "13. 'Reindeer'\n",
       "14. 'Reindeer'\n",
       "15. 'Reindeer'\n",
       "16. 'Reindeer'\n",
       "17. 'Reindeer'\n",
       "18. 'Reindeer'\n",
       "19. 'Reindeer'\n",
       "20. 'Reindeer'\n",
       "21. 'Reindeer'\n",
       "22. 'Reindeer'\n",
       "23. 'Reindeer'\n",
       "24. 'Reindeer'\n",
       "25. 'Reindeer'\n",
       "26. 'Reindeer'\n",
       "27. 'Reindeer'\n",
       "28. 'Reindeer'\n",
       "29. 'Reindeer'\n",
       "30. 'Reindeer'\n",
       "\n",
       "\n"
      ],
      "text/plain": [
       " [1] \"Reindeer\" \"Reindeer\" \"Reindeer\" \"Reindeer\" \"Reindeer\" \"Reindeer\"\n",
       " [7] \"Reindeer\" \"Reindeer\" \"Reindeer\" \"Reindeer\" \"Reindeer\" \"Reindeer\"\n",
       "[13] \"Reindeer\" \"Reindeer\" \"Reindeer\" \"Reindeer\" \"Reindeer\" \"Reindeer\"\n",
       "[19] \"Reindeer\" \"Reindeer\" \"Reindeer\" \"Reindeer\" \"Reindeer\" \"Reindeer\"\n",
       "[25] \"Reindeer\" \"Reindeer\" \"Reindeer\" \"Reindeer\" \"Reindeer\" \"Reindeer\""
      ]
     },
     "metadata": {},
     "output_type": "display_data"
    }
   ],
   "source": [
    "species2 # just a big list of words"
   ]
  },
  {
   "cell_type": "markdown",
   "id": "7198b1e8-6298-4fb9-a319-f7f2f723d725",
   "metadata": {},
   "source": [
    "We can also manipulate arrays. This can be necessary for tidying data, and getting it into the right format. We can for example append one array to another. We just use the c() function for this."
   ]
  },
  {
   "cell_type": "code",
   "execution_count": 36,
   "id": "750d9402-c1cc-4866-a00b-3f0e75dfe402",
   "metadata": {},
   "outputs": [],
   "source": [
    "Weight <- c(weight1, weight2)\n",
    "Species <- c(species1, species2)"
   ]
  },
  {
   "cell_type": "code",
   "execution_count": 37,
   "id": "73085428-28a7-403b-9d84-8f087cbd17c8",
   "metadata": {},
   "outputs": [
    {
     "data": {
      "text/html": [
       "<style>\n",
       ".list-inline {list-style: none; margin:0; padding: 0}\n",
       ".list-inline>li {display: inline-block}\n",
       ".list-inline>li:not(:last-child)::after {content: \"\\00b7\"; padding: 0 .5ex}\n",
       "</style>\n",
       "<ol class=list-inline><li>31.3051732055937</li><li>71.4368437104809</li><li>67.1679084367143</li><li>58.5440643168279</li><li>53.9429223992838</li><li>45.7025254367991</li><li>47.1061175937886</li><li>73.0438543166079</li><li>67.618122335653</li><li>52.2000665553419</li><li>75.8776235352153</li><li>68.9580117416698</li><li>51.3599088902497</li><li>56.4376704197725</li><li>45.0753059071731</li><li>60.9411815877634</li><li>59.8970799845049</li><li>49.7069396787501</li><li>86.5455041644513</li><li>68.6809938564465</li><li>59.1832486628075</li><li>58.6605102977731</li><li>61.5777804915687</li><li>64.4802612889915</li><li>47.127955810424</li><li>65.8609761987515</li><li>56.1699357752753</li><li>52.4198995768535</li><li>60.4059825522918</li><li>55.3514751807163</li><li>78.1628600844571</li><li>95.5986481530919</li><li>101.416686733169</li><li>81.2325267565595</li><li>83.4450800961074</li><li>73.2132011551367</li><li>79.0030985939765</li><li>84.1191527978249</li><li>75.5151242636599</li><li>83.7913735988501</li><li>67.4953952789836</li><li>60.7468376947514</li><li>71.3091636835114</li><li>68.2596620823598</li><li>63.5843506884899</li><li>62.5946956963642</li><li>88.6449005233629</li><li>87.6460048184649</li><li>89.8650564584189</li><li>75.0923280730465</li><li>87.431170393834</li><li>69.6517044814987</li><li>80.3091938201433</li><li>71.3258686210032</li><li>73.6622409399902</li><li>64.5968604678773</li><li>75.9894068825781</li><li>97.5475106939925</li><li>71.7594120501271</li><li>81.058341900732</li></ol>\n"
      ],
      "text/latex": [
       "\\begin{enumerate*}\n",
       "\\item 31.3051732055937\n",
       "\\item 71.4368437104809\n",
       "\\item 67.1679084367143\n",
       "\\item 58.5440643168279\n",
       "\\item 53.9429223992838\n",
       "\\item 45.7025254367991\n",
       "\\item 47.1061175937886\n",
       "\\item 73.0438543166079\n",
       "\\item 67.618122335653\n",
       "\\item 52.2000665553419\n",
       "\\item 75.8776235352153\n",
       "\\item 68.9580117416698\n",
       "\\item 51.3599088902497\n",
       "\\item 56.4376704197725\n",
       "\\item 45.0753059071731\n",
       "\\item 60.9411815877634\n",
       "\\item 59.8970799845049\n",
       "\\item 49.7069396787501\n",
       "\\item 86.5455041644513\n",
       "\\item 68.6809938564465\n",
       "\\item 59.1832486628075\n",
       "\\item 58.6605102977731\n",
       "\\item 61.5777804915687\n",
       "\\item 64.4802612889915\n",
       "\\item 47.127955810424\n",
       "\\item 65.8609761987515\n",
       "\\item 56.1699357752753\n",
       "\\item 52.4198995768535\n",
       "\\item 60.4059825522918\n",
       "\\item 55.3514751807163\n",
       "\\item 78.1628600844571\n",
       "\\item 95.5986481530919\n",
       "\\item 101.416686733169\n",
       "\\item 81.2325267565595\n",
       "\\item 83.4450800961074\n",
       "\\item 73.2132011551367\n",
       "\\item 79.0030985939765\n",
       "\\item 84.1191527978249\n",
       "\\item 75.5151242636599\n",
       "\\item 83.7913735988501\n",
       "\\item 67.4953952789836\n",
       "\\item 60.7468376947514\n",
       "\\item 71.3091636835114\n",
       "\\item 68.2596620823598\n",
       "\\item 63.5843506884899\n",
       "\\item 62.5946956963642\n",
       "\\item 88.6449005233629\n",
       "\\item 87.6460048184649\n",
       "\\item 89.8650564584189\n",
       "\\item 75.0923280730465\n",
       "\\item 87.431170393834\n",
       "\\item 69.6517044814987\n",
       "\\item 80.3091938201433\n",
       "\\item 71.3258686210032\n",
       "\\item 73.6622409399902\n",
       "\\item 64.5968604678773\n",
       "\\item 75.9894068825781\n",
       "\\item 97.5475106939925\n",
       "\\item 71.7594120501271\n",
       "\\item 81.058341900732\n",
       "\\end{enumerate*}\n"
      ],
      "text/markdown": [
       "1. 31.3051732055937\n",
       "2. 71.4368437104809\n",
       "3. 67.1679084367143\n",
       "4. 58.5440643168279\n",
       "5. 53.9429223992838\n",
       "6. 45.7025254367991\n",
       "7. 47.1061175937886\n",
       "8. 73.0438543166079\n",
       "9. 67.618122335653\n",
       "10. 52.2000665553419\n",
       "11. 75.8776235352153\n",
       "12. 68.9580117416698\n",
       "13. 51.3599088902497\n",
       "14. 56.4376704197725\n",
       "15. 45.0753059071731\n",
       "16. 60.9411815877634\n",
       "17. 59.8970799845049\n",
       "18. 49.7069396787501\n",
       "19. 86.5455041644513\n",
       "20. 68.6809938564465\n",
       "21. 59.1832486628075\n",
       "22. 58.6605102977731\n",
       "23. 61.5777804915687\n",
       "24. 64.4802612889915\n",
       "25. 47.127955810424\n",
       "26. 65.8609761987515\n",
       "27. 56.1699357752753\n",
       "28. 52.4198995768535\n",
       "29. 60.4059825522918\n",
       "30. 55.3514751807163\n",
       "31. 78.1628600844571\n",
       "32. 95.5986481530919\n",
       "33. 101.416686733169\n",
       "34. 81.2325267565595\n",
       "35. 83.4450800961074\n",
       "36. 73.2132011551367\n",
       "37. 79.0030985939765\n",
       "38. 84.1191527978249\n",
       "39. 75.5151242636599\n",
       "40. 83.7913735988501\n",
       "41. 67.4953952789836\n",
       "42. 60.7468376947514\n",
       "43. 71.3091636835114\n",
       "44. 68.2596620823598\n",
       "45. 63.5843506884899\n",
       "46. 62.5946956963642\n",
       "47. 88.6449005233629\n",
       "48. 87.6460048184649\n",
       "49. 89.8650564584189\n",
       "50. 75.0923280730465\n",
       "51. 87.431170393834\n",
       "52. 69.6517044814987\n",
       "53. 80.3091938201433\n",
       "54. 71.3258686210032\n",
       "55. 73.6622409399902\n",
       "56. 64.5968604678773\n",
       "57. 75.9894068825781\n",
       "58. 97.5475106939925\n",
       "59. 71.7594120501271\n",
       "60. 81.058341900732\n",
       "\n",
       "\n"
      ],
      "text/plain": [
       " [1]  31.30517  71.43684  67.16791  58.54406  53.94292  45.70253  47.10612\n",
       " [8]  73.04385  67.61812  52.20007  75.87762  68.95801  51.35991  56.43767\n",
       "[15]  45.07531  60.94118  59.89708  49.70694  86.54550  68.68099  59.18325\n",
       "[22]  58.66051  61.57778  64.48026  47.12796  65.86098  56.16994  52.41990\n",
       "[29]  60.40598  55.35148  78.16286  95.59865 101.41669  81.23253  83.44508\n",
       "[36]  73.21320  79.00310  84.11915  75.51512  83.79137  67.49540  60.74684\n",
       "[43]  71.30916  68.25966  63.58435  62.59470  88.64490  87.64600  89.86506\n",
       "[50]  75.09233  87.43117  69.65170  80.30919  71.32587  73.66224  64.59686\n",
       "[57]  75.98941  97.54751  71.75941  81.05834"
      ]
     },
     "metadata": {},
     "output_type": "display_data"
    }
   ],
   "source": [
    "Weight # we just concated the two lists"
   ]
  },
  {
   "cell_type": "code",
   "execution_count": 38,
   "id": "5629a3e0-e52f-4d73-8e65-f1c6c62019f9",
   "metadata": {},
   "outputs": [
    {
     "data": {
      "text/html": [
       "<style>\n",
       ".list-inline {list-style: none; margin:0; padding: 0}\n",
       ".list-inline>li {display: inline-block}\n",
       ".list-inline>li:not(:last-child)::after {content: \"\\00b7\"; padding: 0 .5ex}\n",
       "</style>\n",
       "<ol class=list-inline><li>'Deer'</li><li>'Deer'</li><li>'Deer'</li><li>'Deer'</li><li>'Deer'</li><li>'Deer'</li><li>'Deer'</li><li>'Deer'</li><li>'Deer'</li><li>'Deer'</li><li>'Deer'</li><li>'Deer'</li><li>'Deer'</li><li>'Deer'</li><li>'Deer'</li><li>'Deer'</li><li>'Deer'</li><li>'Deer'</li><li>'Deer'</li><li>'Deer'</li><li>'Deer'</li><li>'Deer'</li><li>'Deer'</li><li>'Deer'</li><li>'Deer'</li><li>'Deer'</li><li>'Deer'</li><li>'Deer'</li><li>'Deer'</li><li>'Deer'</li><li>'Reindeer'</li><li>'Reindeer'</li><li>'Reindeer'</li><li>'Reindeer'</li><li>'Reindeer'</li><li>'Reindeer'</li><li>'Reindeer'</li><li>'Reindeer'</li><li>'Reindeer'</li><li>'Reindeer'</li><li>'Reindeer'</li><li>'Reindeer'</li><li>'Reindeer'</li><li>'Reindeer'</li><li>'Reindeer'</li><li>'Reindeer'</li><li>'Reindeer'</li><li>'Reindeer'</li><li>'Reindeer'</li><li>'Reindeer'</li><li>'Reindeer'</li><li>'Reindeer'</li><li>'Reindeer'</li><li>'Reindeer'</li><li>'Reindeer'</li><li>'Reindeer'</li><li>'Reindeer'</li><li>'Reindeer'</li><li>'Reindeer'</li><li>'Reindeer'</li></ol>\n"
      ],
      "text/latex": [
       "\\begin{enumerate*}\n",
       "\\item 'Deer'\n",
       "\\item 'Deer'\n",
       "\\item 'Deer'\n",
       "\\item 'Deer'\n",
       "\\item 'Deer'\n",
       "\\item 'Deer'\n",
       "\\item 'Deer'\n",
       "\\item 'Deer'\n",
       "\\item 'Deer'\n",
       "\\item 'Deer'\n",
       "\\item 'Deer'\n",
       "\\item 'Deer'\n",
       "\\item 'Deer'\n",
       "\\item 'Deer'\n",
       "\\item 'Deer'\n",
       "\\item 'Deer'\n",
       "\\item 'Deer'\n",
       "\\item 'Deer'\n",
       "\\item 'Deer'\n",
       "\\item 'Deer'\n",
       "\\item 'Deer'\n",
       "\\item 'Deer'\n",
       "\\item 'Deer'\n",
       "\\item 'Deer'\n",
       "\\item 'Deer'\n",
       "\\item 'Deer'\n",
       "\\item 'Deer'\n",
       "\\item 'Deer'\n",
       "\\item 'Deer'\n",
       "\\item 'Deer'\n",
       "\\item 'Reindeer'\n",
       "\\item 'Reindeer'\n",
       "\\item 'Reindeer'\n",
       "\\item 'Reindeer'\n",
       "\\item 'Reindeer'\n",
       "\\item 'Reindeer'\n",
       "\\item 'Reindeer'\n",
       "\\item 'Reindeer'\n",
       "\\item 'Reindeer'\n",
       "\\item 'Reindeer'\n",
       "\\item 'Reindeer'\n",
       "\\item 'Reindeer'\n",
       "\\item 'Reindeer'\n",
       "\\item 'Reindeer'\n",
       "\\item 'Reindeer'\n",
       "\\item 'Reindeer'\n",
       "\\item 'Reindeer'\n",
       "\\item 'Reindeer'\n",
       "\\item 'Reindeer'\n",
       "\\item 'Reindeer'\n",
       "\\item 'Reindeer'\n",
       "\\item 'Reindeer'\n",
       "\\item 'Reindeer'\n",
       "\\item 'Reindeer'\n",
       "\\item 'Reindeer'\n",
       "\\item 'Reindeer'\n",
       "\\item 'Reindeer'\n",
       "\\item 'Reindeer'\n",
       "\\item 'Reindeer'\n",
       "\\item 'Reindeer'\n",
       "\\end{enumerate*}\n"
      ],
      "text/markdown": [
       "1. 'Deer'\n",
       "2. 'Deer'\n",
       "3. 'Deer'\n",
       "4. 'Deer'\n",
       "5. 'Deer'\n",
       "6. 'Deer'\n",
       "7. 'Deer'\n",
       "8. 'Deer'\n",
       "9. 'Deer'\n",
       "10. 'Deer'\n",
       "11. 'Deer'\n",
       "12. 'Deer'\n",
       "13. 'Deer'\n",
       "14. 'Deer'\n",
       "15. 'Deer'\n",
       "16. 'Deer'\n",
       "17. 'Deer'\n",
       "18. 'Deer'\n",
       "19. 'Deer'\n",
       "20. 'Deer'\n",
       "21. 'Deer'\n",
       "22. 'Deer'\n",
       "23. 'Deer'\n",
       "24. 'Deer'\n",
       "25. 'Deer'\n",
       "26. 'Deer'\n",
       "27. 'Deer'\n",
       "28. 'Deer'\n",
       "29. 'Deer'\n",
       "30. 'Deer'\n",
       "31. 'Reindeer'\n",
       "32. 'Reindeer'\n",
       "33. 'Reindeer'\n",
       "34. 'Reindeer'\n",
       "35. 'Reindeer'\n",
       "36. 'Reindeer'\n",
       "37. 'Reindeer'\n",
       "38. 'Reindeer'\n",
       "39. 'Reindeer'\n",
       "40. 'Reindeer'\n",
       "41. 'Reindeer'\n",
       "42. 'Reindeer'\n",
       "43. 'Reindeer'\n",
       "44. 'Reindeer'\n",
       "45. 'Reindeer'\n",
       "46. 'Reindeer'\n",
       "47. 'Reindeer'\n",
       "48. 'Reindeer'\n",
       "49. 'Reindeer'\n",
       "50. 'Reindeer'\n",
       "51. 'Reindeer'\n",
       "52. 'Reindeer'\n",
       "53. 'Reindeer'\n",
       "54. 'Reindeer'\n",
       "55. 'Reindeer'\n",
       "56. 'Reindeer'\n",
       "57. 'Reindeer'\n",
       "58. 'Reindeer'\n",
       "59. 'Reindeer'\n",
       "60. 'Reindeer'\n",
       "\n",
       "\n"
      ],
      "text/plain": [
       " [1] \"Deer\"     \"Deer\"     \"Deer\"     \"Deer\"     \"Deer\"     \"Deer\"    \n",
       " [7] \"Deer\"     \"Deer\"     \"Deer\"     \"Deer\"     \"Deer\"     \"Deer\"    \n",
       "[13] \"Deer\"     \"Deer\"     \"Deer\"     \"Deer\"     \"Deer\"     \"Deer\"    \n",
       "[19] \"Deer\"     \"Deer\"     \"Deer\"     \"Deer\"     \"Deer\"     \"Deer\"    \n",
       "[25] \"Deer\"     \"Deer\"     \"Deer\"     \"Deer\"     \"Deer\"     \"Deer\"    \n",
       "[31] \"Reindeer\" \"Reindeer\" \"Reindeer\" \"Reindeer\" \"Reindeer\" \"Reindeer\"\n",
       "[37] \"Reindeer\" \"Reindeer\" \"Reindeer\" \"Reindeer\" \"Reindeer\" \"Reindeer\"\n",
       "[43] \"Reindeer\" \"Reindeer\" \"Reindeer\" \"Reindeer\" \"Reindeer\" \"Reindeer\"\n",
       "[49] \"Reindeer\" \"Reindeer\" \"Reindeer\" \"Reindeer\" \"Reindeer\" \"Reindeer\"\n",
       "[55] \"Reindeer\" \"Reindeer\" \"Reindeer\" \"Reindeer\" \"Reindeer\" \"Reindeer\""
      ]
     },
     "metadata": {},
     "output_type": "display_data"
    }
   ],
   "source": [
    "Species"
   ]
  },
  {
   "cell_type": "markdown",
   "id": "987c336d-d560-4c57-9d87-eee75a342173",
   "metadata": {},
   "source": [
    "This gives us our weights and species as nice tidy data arrays. We can also organise our data into spreadsheets like excel. These are called data frames in R."
   ]
  },
  {
   "cell_type": "code",
   "execution_count": 41,
   "id": "03134980-2042-4ef6-92fa-930639259b9c",
   "metadata": {},
   "outputs": [],
   "source": [
    "DeerStudy <- data.frame(Weight, Species)"
   ]
  },
  {
   "cell_type": "markdown",
   "id": "21b1fbbc-a349-4d17-8452-81cec475d781",
   "metadata": {},
   "source": [
    "You can always take a look at the dataframe by calling it."
   ]
  },
  {
   "cell_type": "code",
   "execution_count": 42,
   "id": "024e2e50-5a68-49f5-8ca3-bf6271649f81",
   "metadata": {
    "scrolled": true
   },
   "outputs": [
    {
     "data": {
      "text/html": [
       "<table class=\"dataframe\">\n",
       "<caption>A data.frame: 60 × 2</caption>\n",
       "<thead>\n",
       "\t<tr><th scope=col>Weight</th><th scope=col>Species</th></tr>\n",
       "\t<tr><th scope=col>&lt;dbl&gt;</th><th scope=col>&lt;chr&gt;</th></tr>\n",
       "</thead>\n",
       "<tbody>\n",
       "\t<tr><td> 31.30517</td><td>Deer    </td></tr>\n",
       "\t<tr><td> 71.43684</td><td>Deer    </td></tr>\n",
       "\t<tr><td> 67.16791</td><td>Deer    </td></tr>\n",
       "\t<tr><td> 58.54406</td><td>Deer    </td></tr>\n",
       "\t<tr><td> 53.94292</td><td>Deer    </td></tr>\n",
       "\t<tr><td> 45.70253</td><td>Deer    </td></tr>\n",
       "\t<tr><td> 47.10612</td><td>Deer    </td></tr>\n",
       "\t<tr><td> 73.04385</td><td>Deer    </td></tr>\n",
       "\t<tr><td> 67.61812</td><td>Deer    </td></tr>\n",
       "\t<tr><td> 52.20007</td><td>Deer    </td></tr>\n",
       "\t<tr><td> 75.87762</td><td>Deer    </td></tr>\n",
       "\t<tr><td> 68.95801</td><td>Deer    </td></tr>\n",
       "\t<tr><td> 51.35991</td><td>Deer    </td></tr>\n",
       "\t<tr><td> 56.43767</td><td>Deer    </td></tr>\n",
       "\t<tr><td> 45.07531</td><td>Deer    </td></tr>\n",
       "\t<tr><td> 60.94118</td><td>Deer    </td></tr>\n",
       "\t<tr><td> 59.89708</td><td>Deer    </td></tr>\n",
       "\t<tr><td> 49.70694</td><td>Deer    </td></tr>\n",
       "\t<tr><td> 86.54550</td><td>Deer    </td></tr>\n",
       "\t<tr><td> 68.68099</td><td>Deer    </td></tr>\n",
       "\t<tr><td> 59.18325</td><td>Deer    </td></tr>\n",
       "\t<tr><td> 58.66051</td><td>Deer    </td></tr>\n",
       "\t<tr><td> 61.57778</td><td>Deer    </td></tr>\n",
       "\t<tr><td> 64.48026</td><td>Deer    </td></tr>\n",
       "\t<tr><td> 47.12796</td><td>Deer    </td></tr>\n",
       "\t<tr><td> 65.86098</td><td>Deer    </td></tr>\n",
       "\t<tr><td> 56.16994</td><td>Deer    </td></tr>\n",
       "\t<tr><td> 52.41990</td><td>Deer    </td></tr>\n",
       "\t<tr><td> 60.40598</td><td>Deer    </td></tr>\n",
       "\t<tr><td> 55.35148</td><td>Deer    </td></tr>\n",
       "\t<tr><td> 78.16286</td><td>Reindeer</td></tr>\n",
       "\t<tr><td> 95.59865</td><td>Reindeer</td></tr>\n",
       "\t<tr><td>101.41669</td><td>Reindeer</td></tr>\n",
       "\t<tr><td> 81.23253</td><td>Reindeer</td></tr>\n",
       "\t<tr><td> 83.44508</td><td>Reindeer</td></tr>\n",
       "\t<tr><td> 73.21320</td><td>Reindeer</td></tr>\n",
       "\t<tr><td> 79.00310</td><td>Reindeer</td></tr>\n",
       "\t<tr><td> 84.11915</td><td>Reindeer</td></tr>\n",
       "\t<tr><td> 75.51512</td><td>Reindeer</td></tr>\n",
       "\t<tr><td> 83.79137</td><td>Reindeer</td></tr>\n",
       "\t<tr><td> 67.49540</td><td>Reindeer</td></tr>\n",
       "\t<tr><td> 60.74684</td><td>Reindeer</td></tr>\n",
       "\t<tr><td> 71.30916</td><td>Reindeer</td></tr>\n",
       "\t<tr><td> 68.25966</td><td>Reindeer</td></tr>\n",
       "\t<tr><td> 63.58435</td><td>Reindeer</td></tr>\n",
       "\t<tr><td> 62.59470</td><td>Reindeer</td></tr>\n",
       "\t<tr><td> 88.64490</td><td>Reindeer</td></tr>\n",
       "\t<tr><td> 87.64600</td><td>Reindeer</td></tr>\n",
       "\t<tr><td> 89.86506</td><td>Reindeer</td></tr>\n",
       "\t<tr><td> 75.09233</td><td>Reindeer</td></tr>\n",
       "\t<tr><td> 87.43117</td><td>Reindeer</td></tr>\n",
       "\t<tr><td> 69.65170</td><td>Reindeer</td></tr>\n",
       "\t<tr><td> 80.30919</td><td>Reindeer</td></tr>\n",
       "\t<tr><td> 71.32587</td><td>Reindeer</td></tr>\n",
       "\t<tr><td> 73.66224</td><td>Reindeer</td></tr>\n",
       "\t<tr><td> 64.59686</td><td>Reindeer</td></tr>\n",
       "\t<tr><td> 75.98941</td><td>Reindeer</td></tr>\n",
       "\t<tr><td> 97.54751</td><td>Reindeer</td></tr>\n",
       "\t<tr><td> 71.75941</td><td>Reindeer</td></tr>\n",
       "\t<tr><td> 81.05834</td><td>Reindeer</td></tr>\n",
       "</tbody>\n",
       "</table>\n"
      ],
      "text/latex": [
       "A data.frame: 60 × 2\n",
       "\\begin{tabular}{ll}\n",
       " Weight & Species\\\\\n",
       " <dbl> & <chr>\\\\\n",
       "\\hline\n",
       "\t  31.30517 & Deer    \\\\\n",
       "\t  71.43684 & Deer    \\\\\n",
       "\t  67.16791 & Deer    \\\\\n",
       "\t  58.54406 & Deer    \\\\\n",
       "\t  53.94292 & Deer    \\\\\n",
       "\t  45.70253 & Deer    \\\\\n",
       "\t  47.10612 & Deer    \\\\\n",
       "\t  73.04385 & Deer    \\\\\n",
       "\t  67.61812 & Deer    \\\\\n",
       "\t  52.20007 & Deer    \\\\\n",
       "\t  75.87762 & Deer    \\\\\n",
       "\t  68.95801 & Deer    \\\\\n",
       "\t  51.35991 & Deer    \\\\\n",
       "\t  56.43767 & Deer    \\\\\n",
       "\t  45.07531 & Deer    \\\\\n",
       "\t  60.94118 & Deer    \\\\\n",
       "\t  59.89708 & Deer    \\\\\n",
       "\t  49.70694 & Deer    \\\\\n",
       "\t  86.54550 & Deer    \\\\\n",
       "\t  68.68099 & Deer    \\\\\n",
       "\t  59.18325 & Deer    \\\\\n",
       "\t  58.66051 & Deer    \\\\\n",
       "\t  61.57778 & Deer    \\\\\n",
       "\t  64.48026 & Deer    \\\\\n",
       "\t  47.12796 & Deer    \\\\\n",
       "\t  65.86098 & Deer    \\\\\n",
       "\t  56.16994 & Deer    \\\\\n",
       "\t  52.41990 & Deer    \\\\\n",
       "\t  60.40598 & Deer    \\\\\n",
       "\t  55.35148 & Deer    \\\\\n",
       "\t  78.16286 & Reindeer\\\\\n",
       "\t  95.59865 & Reindeer\\\\\n",
       "\t 101.41669 & Reindeer\\\\\n",
       "\t  81.23253 & Reindeer\\\\\n",
       "\t  83.44508 & Reindeer\\\\\n",
       "\t  73.21320 & Reindeer\\\\\n",
       "\t  79.00310 & Reindeer\\\\\n",
       "\t  84.11915 & Reindeer\\\\\n",
       "\t  75.51512 & Reindeer\\\\\n",
       "\t  83.79137 & Reindeer\\\\\n",
       "\t  67.49540 & Reindeer\\\\\n",
       "\t  60.74684 & Reindeer\\\\\n",
       "\t  71.30916 & Reindeer\\\\\n",
       "\t  68.25966 & Reindeer\\\\\n",
       "\t  63.58435 & Reindeer\\\\\n",
       "\t  62.59470 & Reindeer\\\\\n",
       "\t  88.64490 & Reindeer\\\\\n",
       "\t  87.64600 & Reindeer\\\\\n",
       "\t  89.86506 & Reindeer\\\\\n",
       "\t  75.09233 & Reindeer\\\\\n",
       "\t  87.43117 & Reindeer\\\\\n",
       "\t  69.65170 & Reindeer\\\\\n",
       "\t  80.30919 & Reindeer\\\\\n",
       "\t  71.32587 & Reindeer\\\\\n",
       "\t  73.66224 & Reindeer\\\\\n",
       "\t  64.59686 & Reindeer\\\\\n",
       "\t  75.98941 & Reindeer\\\\\n",
       "\t  97.54751 & Reindeer\\\\\n",
       "\t  71.75941 & Reindeer\\\\\n",
       "\t  81.05834 & Reindeer\\\\\n",
       "\\end{tabular}\n"
      ],
      "text/markdown": [
       "\n",
       "A data.frame: 60 × 2\n",
       "\n",
       "| Weight &lt;dbl&gt; | Species &lt;chr&gt; |\n",
       "|---|---|\n",
       "|  31.30517 | Deer     |\n",
       "|  71.43684 | Deer     |\n",
       "|  67.16791 | Deer     |\n",
       "|  58.54406 | Deer     |\n",
       "|  53.94292 | Deer     |\n",
       "|  45.70253 | Deer     |\n",
       "|  47.10612 | Deer     |\n",
       "|  73.04385 | Deer     |\n",
       "|  67.61812 | Deer     |\n",
       "|  52.20007 | Deer     |\n",
       "|  75.87762 | Deer     |\n",
       "|  68.95801 | Deer     |\n",
       "|  51.35991 | Deer     |\n",
       "|  56.43767 | Deer     |\n",
       "|  45.07531 | Deer     |\n",
       "|  60.94118 | Deer     |\n",
       "|  59.89708 | Deer     |\n",
       "|  49.70694 | Deer     |\n",
       "|  86.54550 | Deer     |\n",
       "|  68.68099 | Deer     |\n",
       "|  59.18325 | Deer     |\n",
       "|  58.66051 | Deer     |\n",
       "|  61.57778 | Deer     |\n",
       "|  64.48026 | Deer     |\n",
       "|  47.12796 | Deer     |\n",
       "|  65.86098 | Deer     |\n",
       "|  56.16994 | Deer     |\n",
       "|  52.41990 | Deer     |\n",
       "|  60.40598 | Deer     |\n",
       "|  55.35148 | Deer     |\n",
       "|  78.16286 | Reindeer |\n",
       "|  95.59865 | Reindeer |\n",
       "| 101.41669 | Reindeer |\n",
       "|  81.23253 | Reindeer |\n",
       "|  83.44508 | Reindeer |\n",
       "|  73.21320 | Reindeer |\n",
       "|  79.00310 | Reindeer |\n",
       "|  84.11915 | Reindeer |\n",
       "|  75.51512 | Reindeer |\n",
       "|  83.79137 | Reindeer |\n",
       "|  67.49540 | Reindeer |\n",
       "|  60.74684 | Reindeer |\n",
       "|  71.30916 | Reindeer |\n",
       "|  68.25966 | Reindeer |\n",
       "|  63.58435 | Reindeer |\n",
       "|  62.59470 | Reindeer |\n",
       "|  88.64490 | Reindeer |\n",
       "|  87.64600 | Reindeer |\n",
       "|  89.86506 | Reindeer |\n",
       "|  75.09233 | Reindeer |\n",
       "|  87.43117 | Reindeer |\n",
       "|  69.65170 | Reindeer |\n",
       "|  80.30919 | Reindeer |\n",
       "|  71.32587 | Reindeer |\n",
       "|  73.66224 | Reindeer |\n",
       "|  64.59686 | Reindeer |\n",
       "|  75.98941 | Reindeer |\n",
       "|  97.54751 | Reindeer |\n",
       "|  71.75941 | Reindeer |\n",
       "|  81.05834 | Reindeer |\n",
       "\n"
      ],
      "text/plain": [
       "   Weight    Species \n",
       "1   31.30517 Deer    \n",
       "2   71.43684 Deer    \n",
       "3   67.16791 Deer    \n",
       "4   58.54406 Deer    \n",
       "5   53.94292 Deer    \n",
       "6   45.70253 Deer    \n",
       "7   47.10612 Deer    \n",
       "8   73.04385 Deer    \n",
       "9   67.61812 Deer    \n",
       "10  52.20007 Deer    \n",
       "11  75.87762 Deer    \n",
       "12  68.95801 Deer    \n",
       "13  51.35991 Deer    \n",
       "14  56.43767 Deer    \n",
       "15  45.07531 Deer    \n",
       "16  60.94118 Deer    \n",
       "17  59.89708 Deer    \n",
       "18  49.70694 Deer    \n",
       "19  86.54550 Deer    \n",
       "20  68.68099 Deer    \n",
       "21  59.18325 Deer    \n",
       "22  58.66051 Deer    \n",
       "23  61.57778 Deer    \n",
       "24  64.48026 Deer    \n",
       "25  47.12796 Deer    \n",
       "26  65.86098 Deer    \n",
       "27  56.16994 Deer    \n",
       "28  52.41990 Deer    \n",
       "29  60.40598 Deer    \n",
       "30  55.35148 Deer    \n",
       "31  78.16286 Reindeer\n",
       "32  95.59865 Reindeer\n",
       "33 101.41669 Reindeer\n",
       "34  81.23253 Reindeer\n",
       "35  83.44508 Reindeer\n",
       "36  73.21320 Reindeer\n",
       "37  79.00310 Reindeer\n",
       "38  84.11915 Reindeer\n",
       "39  75.51512 Reindeer\n",
       "40  83.79137 Reindeer\n",
       "41  67.49540 Reindeer\n",
       "42  60.74684 Reindeer\n",
       "43  71.30916 Reindeer\n",
       "44  68.25966 Reindeer\n",
       "45  63.58435 Reindeer\n",
       "46  62.59470 Reindeer\n",
       "47  88.64490 Reindeer\n",
       "48  87.64600 Reindeer\n",
       "49  89.86506 Reindeer\n",
       "50  75.09233 Reindeer\n",
       "51  87.43117 Reindeer\n",
       "52  69.65170 Reindeer\n",
       "53  80.30919 Reindeer\n",
       "54  71.32587 Reindeer\n",
       "55  73.66224 Reindeer\n",
       "56  64.59686 Reindeer\n",
       "57  75.98941 Reindeer\n",
       "58  97.54751 Reindeer\n",
       "59  71.75941 Reindeer\n",
       "60  81.05834 Reindeer"
      ]
     },
     "metadata": {},
     "output_type": "display_data"
    }
   ],
   "source": [
    "DeerStudy"
   ]
  },
  {
   "cell_type": "markdown",
   "id": "9311c1ee-e60f-46b7-a56a-1e15095e59bc",
   "metadata": {},
   "source": [
    "We can look at just the top of this spreadsheet."
   ]
  },
  {
   "cell_type": "code",
   "execution_count": 43,
   "id": "10d529da-ef20-41b9-9ec7-908d2f6a4b69",
   "metadata": {},
   "outputs": [
    {
     "data": {
      "text/html": [
       "<table class=\"dataframe\">\n",
       "<caption>A data.frame: 6 × 2</caption>\n",
       "<thead>\n",
       "\t<tr><th></th><th scope=col>Weight</th><th scope=col>Species</th></tr>\n",
       "\t<tr><th></th><th scope=col>&lt;dbl&gt;</th><th scope=col>&lt;chr&gt;</th></tr>\n",
       "</thead>\n",
       "<tbody>\n",
       "\t<tr><th scope=row>1</th><td>31.30517</td><td>Deer</td></tr>\n",
       "\t<tr><th scope=row>2</th><td>71.43684</td><td>Deer</td></tr>\n",
       "\t<tr><th scope=row>3</th><td>67.16791</td><td>Deer</td></tr>\n",
       "\t<tr><th scope=row>4</th><td>58.54406</td><td>Deer</td></tr>\n",
       "\t<tr><th scope=row>5</th><td>53.94292</td><td>Deer</td></tr>\n",
       "\t<tr><th scope=row>6</th><td>45.70253</td><td>Deer</td></tr>\n",
       "</tbody>\n",
       "</table>\n"
      ],
      "text/latex": [
       "A data.frame: 6 × 2\n",
       "\\begin{tabular}{r|ll}\n",
       "  & Weight & Species\\\\\n",
       "  & <dbl> & <chr>\\\\\n",
       "\\hline\n",
       "\t1 & 31.30517 & Deer\\\\\n",
       "\t2 & 71.43684 & Deer\\\\\n",
       "\t3 & 67.16791 & Deer\\\\\n",
       "\t4 & 58.54406 & Deer\\\\\n",
       "\t5 & 53.94292 & Deer\\\\\n",
       "\t6 & 45.70253 & Deer\\\\\n",
       "\\end{tabular}\n"
      ],
      "text/markdown": [
       "\n",
       "A data.frame: 6 × 2\n",
       "\n",
       "| <!--/--> | Weight &lt;dbl&gt; | Species &lt;chr&gt; |\n",
       "|---|---|---|\n",
       "| 1 | 31.30517 | Deer |\n",
       "| 2 | 71.43684 | Deer |\n",
       "| 3 | 67.16791 | Deer |\n",
       "| 4 | 58.54406 | Deer |\n",
       "| 5 | 53.94292 | Deer |\n",
       "| 6 | 45.70253 | Deer |\n",
       "\n"
      ],
      "text/plain": [
       "  Weight   Species\n",
       "1 31.30517 Deer   \n",
       "2 71.43684 Deer   \n",
       "3 67.16791 Deer   \n",
       "4 58.54406 Deer   \n",
       "5 53.94292 Deer   \n",
       "6 45.70253 Deer   "
      ]
     },
     "metadata": {},
     "output_type": "display_data"
    }
   ],
   "source": [
    "head(DeerStudy)"
   ]
  },
  {
   "cell_type": "markdown",
   "id": "21dea1b3-09c3-40f1-91d0-896897eebb3b",
   "metadata": {},
   "source": [
    "We can also pick out specific variables to do stuff to. We use the '$' for this."
   ]
  },
  {
   "cell_type": "code",
   "execution_count": 44,
   "id": "eb8f3359-f073-4ba3-9ac2-0fa26f38e133",
   "metadata": {},
   "outputs": [
    {
     "data": {
      "text/html": [
       "<style>\n",
       ".list-inline {list-style: none; margin:0; padding: 0}\n",
       ".list-inline>li {display: inline-block}\n",
       ".list-inline>li:not(:last-child)::after {content: \"\\00b7\"; padding: 0 .5ex}\n",
       "</style>\n",
       "<ol class=list-inline><li>'Deer'</li><li>'Deer'</li><li>'Deer'</li><li>'Deer'</li><li>'Deer'</li><li>'Deer'</li><li>'Deer'</li><li>'Deer'</li><li>'Deer'</li><li>'Deer'</li><li>'Deer'</li><li>'Deer'</li><li>'Deer'</li><li>'Deer'</li><li>'Deer'</li><li>'Deer'</li><li>'Deer'</li><li>'Deer'</li><li>'Deer'</li><li>'Deer'</li><li>'Deer'</li><li>'Deer'</li><li>'Deer'</li><li>'Deer'</li><li>'Deer'</li><li>'Deer'</li><li>'Deer'</li><li>'Deer'</li><li>'Deer'</li><li>'Deer'</li><li>'Reindeer'</li><li>'Reindeer'</li><li>'Reindeer'</li><li>'Reindeer'</li><li>'Reindeer'</li><li>'Reindeer'</li><li>'Reindeer'</li><li>'Reindeer'</li><li>'Reindeer'</li><li>'Reindeer'</li><li>'Reindeer'</li><li>'Reindeer'</li><li>'Reindeer'</li><li>'Reindeer'</li><li>'Reindeer'</li><li>'Reindeer'</li><li>'Reindeer'</li><li>'Reindeer'</li><li>'Reindeer'</li><li>'Reindeer'</li><li>'Reindeer'</li><li>'Reindeer'</li><li>'Reindeer'</li><li>'Reindeer'</li><li>'Reindeer'</li><li>'Reindeer'</li><li>'Reindeer'</li><li>'Reindeer'</li><li>'Reindeer'</li><li>'Reindeer'</li></ol>\n"
      ],
      "text/latex": [
       "\\begin{enumerate*}\n",
       "\\item 'Deer'\n",
       "\\item 'Deer'\n",
       "\\item 'Deer'\n",
       "\\item 'Deer'\n",
       "\\item 'Deer'\n",
       "\\item 'Deer'\n",
       "\\item 'Deer'\n",
       "\\item 'Deer'\n",
       "\\item 'Deer'\n",
       "\\item 'Deer'\n",
       "\\item 'Deer'\n",
       "\\item 'Deer'\n",
       "\\item 'Deer'\n",
       "\\item 'Deer'\n",
       "\\item 'Deer'\n",
       "\\item 'Deer'\n",
       "\\item 'Deer'\n",
       "\\item 'Deer'\n",
       "\\item 'Deer'\n",
       "\\item 'Deer'\n",
       "\\item 'Deer'\n",
       "\\item 'Deer'\n",
       "\\item 'Deer'\n",
       "\\item 'Deer'\n",
       "\\item 'Deer'\n",
       "\\item 'Deer'\n",
       "\\item 'Deer'\n",
       "\\item 'Deer'\n",
       "\\item 'Deer'\n",
       "\\item 'Deer'\n",
       "\\item 'Reindeer'\n",
       "\\item 'Reindeer'\n",
       "\\item 'Reindeer'\n",
       "\\item 'Reindeer'\n",
       "\\item 'Reindeer'\n",
       "\\item 'Reindeer'\n",
       "\\item 'Reindeer'\n",
       "\\item 'Reindeer'\n",
       "\\item 'Reindeer'\n",
       "\\item 'Reindeer'\n",
       "\\item 'Reindeer'\n",
       "\\item 'Reindeer'\n",
       "\\item 'Reindeer'\n",
       "\\item 'Reindeer'\n",
       "\\item 'Reindeer'\n",
       "\\item 'Reindeer'\n",
       "\\item 'Reindeer'\n",
       "\\item 'Reindeer'\n",
       "\\item 'Reindeer'\n",
       "\\item 'Reindeer'\n",
       "\\item 'Reindeer'\n",
       "\\item 'Reindeer'\n",
       "\\item 'Reindeer'\n",
       "\\item 'Reindeer'\n",
       "\\item 'Reindeer'\n",
       "\\item 'Reindeer'\n",
       "\\item 'Reindeer'\n",
       "\\item 'Reindeer'\n",
       "\\item 'Reindeer'\n",
       "\\item 'Reindeer'\n",
       "\\end{enumerate*}\n"
      ],
      "text/markdown": [
       "1. 'Deer'\n",
       "2. 'Deer'\n",
       "3. 'Deer'\n",
       "4. 'Deer'\n",
       "5. 'Deer'\n",
       "6. 'Deer'\n",
       "7. 'Deer'\n",
       "8. 'Deer'\n",
       "9. 'Deer'\n",
       "10. 'Deer'\n",
       "11. 'Deer'\n",
       "12. 'Deer'\n",
       "13. 'Deer'\n",
       "14. 'Deer'\n",
       "15. 'Deer'\n",
       "16. 'Deer'\n",
       "17. 'Deer'\n",
       "18. 'Deer'\n",
       "19. 'Deer'\n",
       "20. 'Deer'\n",
       "21. 'Deer'\n",
       "22. 'Deer'\n",
       "23. 'Deer'\n",
       "24. 'Deer'\n",
       "25. 'Deer'\n",
       "26. 'Deer'\n",
       "27. 'Deer'\n",
       "28. 'Deer'\n",
       "29. 'Deer'\n",
       "30. 'Deer'\n",
       "31. 'Reindeer'\n",
       "32. 'Reindeer'\n",
       "33. 'Reindeer'\n",
       "34. 'Reindeer'\n",
       "35. 'Reindeer'\n",
       "36. 'Reindeer'\n",
       "37. 'Reindeer'\n",
       "38. 'Reindeer'\n",
       "39. 'Reindeer'\n",
       "40. 'Reindeer'\n",
       "41. 'Reindeer'\n",
       "42. 'Reindeer'\n",
       "43. 'Reindeer'\n",
       "44. 'Reindeer'\n",
       "45. 'Reindeer'\n",
       "46. 'Reindeer'\n",
       "47. 'Reindeer'\n",
       "48. 'Reindeer'\n",
       "49. 'Reindeer'\n",
       "50. 'Reindeer'\n",
       "51. 'Reindeer'\n",
       "52. 'Reindeer'\n",
       "53. 'Reindeer'\n",
       "54. 'Reindeer'\n",
       "55. 'Reindeer'\n",
       "56. 'Reindeer'\n",
       "57. 'Reindeer'\n",
       "58. 'Reindeer'\n",
       "59. 'Reindeer'\n",
       "60. 'Reindeer'\n",
       "\n",
       "\n"
      ],
      "text/plain": [
       " [1] \"Deer\"     \"Deer\"     \"Deer\"     \"Deer\"     \"Deer\"     \"Deer\"    \n",
       " [7] \"Deer\"     \"Deer\"     \"Deer\"     \"Deer\"     \"Deer\"     \"Deer\"    \n",
       "[13] \"Deer\"     \"Deer\"     \"Deer\"     \"Deer\"     \"Deer\"     \"Deer\"    \n",
       "[19] \"Deer\"     \"Deer\"     \"Deer\"     \"Deer\"     \"Deer\"     \"Deer\"    \n",
       "[25] \"Deer\"     \"Deer\"     \"Deer\"     \"Deer\"     \"Deer\"     \"Deer\"    \n",
       "[31] \"Reindeer\" \"Reindeer\" \"Reindeer\" \"Reindeer\" \"Reindeer\" \"Reindeer\"\n",
       "[37] \"Reindeer\" \"Reindeer\" \"Reindeer\" \"Reindeer\" \"Reindeer\" \"Reindeer\"\n",
       "[43] \"Reindeer\" \"Reindeer\" \"Reindeer\" \"Reindeer\" \"Reindeer\" \"Reindeer\"\n",
       "[49] \"Reindeer\" \"Reindeer\" \"Reindeer\" \"Reindeer\" \"Reindeer\" \"Reindeer\"\n",
       "[55] \"Reindeer\" \"Reindeer\" \"Reindeer\" \"Reindeer\" \"Reindeer\" \"Reindeer\""
      ]
     },
     "metadata": {},
     "output_type": "display_data"
    }
   ],
   "source": [
    "DeerStudy$Species"
   ]
  },
  {
   "cell_type": "markdown",
   "id": "fdc5873a-36a7-4862-9640-213902b19a78",
   "metadata": {},
   "source": [
    "We can also save our spreadsheet."
   ]
  },
  {
   "cell_type": "code",
   "execution_count": 48,
   "id": "7f598794-26c4-4f25-a274-049e1b5e5838",
   "metadata": {},
   "outputs": [],
   "source": [
    "save(DeerStudy, file = \"DeerStudy.RData\") # this will save it in the notebook you are in"
   ]
  },
  {
   "cell_type": "markdown",
   "id": "372cb28c-dcc1-470f-af05-d0cc651d1b5e",
   "metadata": {},
   "source": [
    "# Part 3 - Basic plotting"
   ]
  },
  {
   "cell_type": "markdown",
   "id": "183f8f30-0e1f-45de-9999-f9b31e06b85a",
   "metadata": {},
   "source": [
    "Plotting is very important. It allows you to see relationships between variables. There are different kinds of plots that are useful for different kinds of relationships."
   ]
  },
  {
   "cell_type": "markdown",
   "id": "a17a5ec9-1a42-4ba2-bc41-15632b56468f",
   "metadata": {},
   "source": [
    "If you want to plot something very quickly, base R (when you don't download any extra packages) has some great options."
   ]
  },
  {
   "cell_type": "markdown",
   "id": "4e3d1012-0552-4e5a-9ad6-668825b31d60",
   "metadata": {},
   "source": [
    "To visualize the relationship between two continuous variables, you can use a scatterplot..."
   ]
  },
  {
   "cell_type": "code",
   "execution_count": 56,
   "id": "6d67b8a1-6a17-4e49-854e-a063fcf50a6f",
   "metadata": {},
   "outputs": [
    {
     "data": {
      "image/png": "[encoded data removed]",
      "text/plain": [
       "plot without title"
      ]
     },
     "metadata": {
      "image/png": {
       "height": 420,
       "width": 420
      }
     },
     "output_type": "display_data"
    }
   ],
   "source": [
    "plot(listOfNumbers1, listOfNumbers2)"
   ]
  },
  {
   "cell_type": "markdown",
   "id": "2f4bd725-a55b-4052-bcbe-09e8c8e6b49b",
   "metadata": {},
   "source": [
    "... while boxplots tell you the relationship between categorical and continuous variables."
   ]
  },
  {
   "cell_type": "code",
   "execution_count": 59,
   "id": "3bf9e5f6-3145-4dc1-ad77-23cbbf550289",
   "metadata": {},
   "outputs": [
    {
     "data": {
      "image/png": "[encoded data removed]",
      "text/plain": [
       "plot without title"
      ]
     },
     "metadata": {
      "image/png": {
       "height": 420,
       "width": 420
      }
     },
     "output_type": "display_data"
    }
   ],
   "source": [
    "boxplot(Weight ~ Species)"
   ]
  },
  {
   "cell_type": "markdown",
   "id": "8a26b67a-2d29-4b1e-a4f7-a09c4fc99c95",
   "metadata": {},
   "source": [
    "The tilde \"~\" is important in R. It can be read to mean \"as a function of\", or \"distributed as\". You will see it again, and you will get used to it. This little syntactic difference is important, because it can allow us to make the same plot using different kinds of data structures. "
   ]
  },
  {
   "cell_type": "markdown",
   "id": "b69a4905-15de-4f77-8805-a12905fb2b9a",
   "metadata": {},
   "source": [
    "These plots are a bit ugly. Even base R can make beautiful plots, you can look at options to fancy plots up using the ?plot command."
   ]
  },
  {
   "cell_type": "markdown",
   "id": "45533359-55d9-494b-967b-d555b3ad2206",
   "metadata": {},
   "source": [
    "A lot of the R community uses a package called ggplot2 to plot. It is very well-documented online and has a lot of options for customization. Packages are like modules in Python. We'll talk a bit more about packages next class. For now, let's just install and load:"
   ]
  },
  {
   "cell_type": "code",
   "execution_count": 66,
   "id": "316dd5c9-f806-4a97-b37e-7445f65b6d30",
   "metadata": {},
   "outputs": [
    {
     "name": "stderr",
     "output_type": "stream",
     "text": [
      "Installing package into ‘/usr/local/spark-3.5.2-bin-hadoop3/R/lib’\n",
      "(as ‘lib’ is unspecified)\n",
      "\n",
      "Installing package into ‘/usr/local/spark-3.5.2-bin-hadoop3/R/lib’\n",
      "(as ‘lib’ is unspecified)\n",
      "\n"
     ]
    }
   ],
   "source": [
    "install.packages(\"dplyr\")\n",
    "install.packages(\"ggplot2\")"
   ]
  },
  {
   "cell_type": "code",
   "execution_count": 67,
   "id": "31c59b20-4ab8-44dd-9c5e-41203b771941",
   "metadata": {},
   "outputs": [
    {
     "name": "stderr",
     "output_type": "stream",
     "text": [
      "\n",
      "Attaching package: ‘dplyr’\n",
      "\n",
      "\n",
      "The following objects are masked from ‘package:stats’:\n",
      "\n",
      "    filter, lag\n",
      "\n",
      "\n",
      "The following objects are masked from ‘package:base’:\n",
      "\n",
      "    intersect, setdiff, setequal, union\n",
      "\n",
      "\n"
     ]
    }
   ],
   "source": [
    "library(ggplot2)\n",
    "library(dplyr)"
   ]
  },
  {
   "cell_type": "code",
   "execution_count": 69,
   "id": "b2b9381b-e7b1-439e-b7b7-53a33a0d5ea5",
   "metadata": {},
   "outputs": [
    {
     "data": {
      "image/png": "[encoded data removed]",
      "text/plain": [
       "plot without title"
      ]
     },
     "metadata": {
      "image/png": {
       "height": 420,
       "width": 420
      }
     },
     "output_type": "display_data"
    }
   ],
   "source": [
    "# we specify the dataframe\n",
    "# aes is #aesthetics\n",
    "ggplot(DeerStudy,    \n",
    "       aes(x = Species, \n",
    "           y = Weight)) +\n",
    "    geom_boxplot() # tell which plot we want to see\n"
   ]
  },
  {
   "cell_type": "markdown",
   "id": "8d84d33e-8796-44de-96b1-4b752be7fc62",
   "metadata": {},
   "source": [
    "ggplot2 is a very modular way of plotting. You give commands in a sequential order, and the output of one command is passed to the command with a '+' operator."
   ]
  },
  {
   "cell_type": "markdown",
   "id": "910c3e21-f8d0-43aa-98aa-61c7882eef3c",
   "metadata": {},
   "source": [
    "The first block (before the + sign) specifies the data we want to use and how we want to use it. Using + signs, we can add extra options, for example the style of plot. You can really go crazy with the customizations!"
   ]
  },
  {
   "cell_type": "code",
   "execution_count": 78,
   "id": "b27a4671-2c44-44d2-9409-3c0285348397",
   "metadata": {},
   "outputs": [
    {
     "data": {
      "image/png": "[encoded data removed]",
      "text/plain": [
       "plot without title"
      ]
     },
     "metadata": {
      "image/png": {
       "height": 420,
       "width": 420
      }
     },
     "output_type": "display_data"
    }
   ],
   "source": [
    "# You can keep adding + to it\n",
    "# scale_fill_manual we choose the colors, otherwise it will fill with some for us\n",
    "# labs adds labels\n",
    "# theme changes the background\n",
    "ggplot(DeerStudy,\n",
    "       aes(x = Species,\n",
    "           y = Weight,\n",
    "          fill = Species)) +\n",
    "    geom_boxplot() +\n",
    "    scale_fill_manual(values = c(\"pink\", \"darkgreen\")) +\n",
    "    labs(title = \"Deer Weight\",\n",
    "         x = \"Species\",\n",
    "         y = \"Weight(kg)\") + \n",
    "    theme_minimal()\n"
   ]
  },
  {
   "cell_type": "markdown",
   "id": "9295e5bb-1c71-4831-88f5-75d2166b2a01",
   "metadata": {},
   "source": [
    "There are several excellent resources for learning about ggplot2. Try to play around with them. For example: https://rstudio.github.io/cheatsheets/html/data-visualization.html"
   ]
  },
  {
   "cell_type": "markdown",
   "id": "3da06e77-614e-42da-b9cf-157a7fea72e3",
   "metadata": {},
   "source": [
    "You have encountered some basic plotting functions in R. You have learned the tilde operator. You have learned how to search the help documentation."
   ]
  },
  {
   "cell_type": "markdown",
   "id": "66fb8cb2-317b-4a2a-948d-8e449fc2651b",
   "metadata": {},
   "source": [
    "# Part 4 - Indexing and basic statistics"
   ]
  },
  {
   "cell_type": "markdown",
   "id": "50f48782-ca8d-435f-af20-6f01228c3a50",
   "metadata": {},
   "source": [
    "R is a statistical language, and so it has functions for running statistical operations and models."
   ]
  },
  {
   "cell_type": "markdown",
   "id": "3e477b15-ea0e-4643-8566-17f0a08d0dfc",
   "metadata": {},
   "source": [
    "We can calculate the average a of variable:"
   ]
  },
  {
   "cell_type": "code",
   "execution_count": 79,
   "id": "a6604c10-f68e-47fc-bed9-23bf9517abc6",
   "metadata": {},
   "outputs": [
    {
     "data": {
      "text/html": [
       "68.6142283565151"
      ],
      "text/latex": [
       "68.6142283565151"
      ],
      "text/markdown": [
       "68.6142283565151"
      ],
      "text/plain": [
       "[1] 68.61423"
      ]
     },
     "metadata": {},
     "output_type": "display_data"
    }
   ],
   "source": [
    "mean(Weight)"
   ]
  },
  {
   "cell_type": "markdown",
   "id": "1d89257f-15ce-43ed-8f06-2d3d27661a62",
   "metadata": {},
   "source": [
    "Sometimes we are interested in sorting or carving our data up, and doing stats on a part of it. We can use indexing for this. For example, we might just want the average of each species in our study"
   ]
  },
  {
   "cell_type": "markdown",
   "id": "a56ecdb1-3f3e-466a-ba70-f9c324648a89",
   "metadata": {},
   "source": [
    "Let's look at how to extract weights for either just the Deers or the Reindeers in our study"
   ]
  },
  {
   "cell_type": "code",
   "execution_count": 80,
   "id": "9facde6b-0bcf-4f3f-8c63-21dd37d7b64d",
   "metadata": {},
   "outputs": [
    {
     "data": {
      "text/html": [
       "<style>\n",
       ".list-inline {list-style: none; margin:0; padding: 0}\n",
       ".list-inline>li {display: inline-block}\n",
       ".list-inline>li:not(:last-child)::after {content: \"\\00b7\"; padding: 0 .5ex}\n",
       "</style>\n",
       "<ol class=list-inline><li>31.3051732055937</li><li>71.4368437104809</li><li>67.1679084367143</li><li>58.5440643168279</li><li>53.9429223992838</li><li>45.7025254367991</li><li>47.1061175937886</li><li>73.0438543166079</li><li>67.618122335653</li><li>52.2000665553419</li><li>75.8776235352153</li><li>68.9580117416698</li><li>51.3599088902497</li><li>56.4376704197725</li><li>45.0753059071731</li><li>60.9411815877634</li><li>59.8970799845049</li><li>49.7069396787501</li><li>86.5455041644513</li><li>68.6809938564465</li><li>59.1832486628075</li><li>58.6605102977731</li><li>61.5777804915687</li><li>64.4802612889915</li><li>47.127955810424</li><li>65.8609761987515</li><li>56.1699357752753</li><li>52.4198995768535</li><li>60.4059825522918</li><li>55.3514751807163</li></ol>\n"
      ],
      "text/latex": [
       "\\begin{enumerate*}\n",
       "\\item 31.3051732055937\n",
       "\\item 71.4368437104809\n",
       "\\item 67.1679084367143\n",
       "\\item 58.5440643168279\n",
       "\\item 53.9429223992838\n",
       "\\item 45.7025254367991\n",
       "\\item 47.1061175937886\n",
       "\\item 73.0438543166079\n",
       "\\item 67.618122335653\n",
       "\\item 52.2000665553419\n",
       "\\item 75.8776235352153\n",
       "\\item 68.9580117416698\n",
       "\\item 51.3599088902497\n",
       "\\item 56.4376704197725\n",
       "\\item 45.0753059071731\n",
       "\\item 60.9411815877634\n",
       "\\item 59.8970799845049\n",
       "\\item 49.7069396787501\n",
       "\\item 86.5455041644513\n",
       "\\item 68.6809938564465\n",
       "\\item 59.1832486628075\n",
       "\\item 58.6605102977731\n",
       "\\item 61.5777804915687\n",
       "\\item 64.4802612889915\n",
       "\\item 47.127955810424\n",
       "\\item 65.8609761987515\n",
       "\\item 56.1699357752753\n",
       "\\item 52.4198995768535\n",
       "\\item 60.4059825522918\n",
       "\\item 55.3514751807163\n",
       "\\end{enumerate*}\n"
      ],
      "text/markdown": [
       "1. 31.3051732055937\n",
       "2. 71.4368437104809\n",
       "3. 67.1679084367143\n",
       "4. 58.5440643168279\n",
       "5. 53.9429223992838\n",
       "6. 45.7025254367991\n",
       "7. 47.1061175937886\n",
       "8. 73.0438543166079\n",
       "9. 67.618122335653\n",
       "10. 52.2000665553419\n",
       "11. 75.8776235352153\n",
       "12. 68.9580117416698\n",
       "13. 51.3599088902497\n",
       "14. 56.4376704197725\n",
       "15. 45.0753059071731\n",
       "16. 60.9411815877634\n",
       "17. 59.8970799845049\n",
       "18. 49.7069396787501\n",
       "19. 86.5455041644513\n",
       "20. 68.6809938564465\n",
       "21. 59.1832486628075\n",
       "22. 58.6605102977731\n",
       "23. 61.5777804915687\n",
       "24. 64.4802612889915\n",
       "25. 47.127955810424\n",
       "26. 65.8609761987515\n",
       "27. 56.1699357752753\n",
       "28. 52.4198995768535\n",
       "29. 60.4059825522918\n",
       "30. 55.3514751807163\n",
       "\n",
       "\n"
      ],
      "text/plain": [
       " [1] 31.30517 71.43684 67.16791 58.54406 53.94292 45.70253 47.10612 73.04385\n",
       " [9] 67.61812 52.20007 75.87762 68.95801 51.35991 56.43767 45.07531 60.94118\n",
       "[17] 59.89708 49.70694 86.54550 68.68099 59.18325 58.66051 61.57778 64.48026\n",
       "[25] 47.12796 65.86098 56.16994 52.41990 60.40598 55.35148"
      ]
     },
     "metadata": {},
     "output_type": "display_data"
    }
   ],
   "source": [
    "Weight[Species == \"Deer\"] # selectively calling parts it - in this case, all weights for deers"
   ]
  },
  {
   "cell_type": "code",
   "execution_count": 81,
   "id": "0e1c94c2-f61e-43c8-8066-db6a80b77ae0",
   "metadata": {},
   "outputs": [
    {
     "data": {
      "text/html": [
       "<style>\n",
       ".list-inline {list-style: none; margin:0; padding: 0}\n",
       ".list-inline>li {display: inline-block}\n",
       ".list-inline>li:not(:last-child)::after {content: \"\\00b7\"; padding: 0 .5ex}\n",
       "</style>\n",
       "<ol class=list-inline><li>78.1628600844571</li><li>95.5986481530919</li><li>101.416686733169</li><li>81.2325267565595</li><li>83.4450800961074</li><li>73.2132011551367</li><li>79.0030985939765</li><li>84.1191527978249</li><li>75.5151242636599</li><li>83.7913735988501</li><li>67.4953952789836</li><li>60.7468376947514</li><li>71.3091636835114</li><li>68.2596620823598</li><li>63.5843506884899</li><li>62.5946956963642</li><li>88.6449005233629</li><li>87.6460048184649</li><li>89.8650564584189</li><li>75.0923280730465</li><li>87.431170393834</li><li>69.6517044814987</li><li>80.3091938201433</li><li>71.3258686210032</li><li>73.6622409399902</li><li>64.5968604678773</li><li>75.9894068825781</li><li>97.5475106939925</li><li>71.7594120501271</li><li>81.058341900732</li></ol>\n"
      ],
      "text/latex": [
       "\\begin{enumerate*}\n",
       "\\item 78.1628600844571\n",
       "\\item 95.5986481530919\n",
       "\\item 101.416686733169\n",
       "\\item 81.2325267565595\n",
       "\\item 83.4450800961074\n",
       "\\item 73.2132011551367\n",
       "\\item 79.0030985939765\n",
       "\\item 84.1191527978249\n",
       "\\item 75.5151242636599\n",
       "\\item 83.7913735988501\n",
       "\\item 67.4953952789836\n",
       "\\item 60.7468376947514\n",
       "\\item 71.3091636835114\n",
       "\\item 68.2596620823598\n",
       "\\item 63.5843506884899\n",
       "\\item 62.5946956963642\n",
       "\\item 88.6449005233629\n",
       "\\item 87.6460048184649\n",
       "\\item 89.8650564584189\n",
       "\\item 75.0923280730465\n",
       "\\item 87.431170393834\n",
       "\\item 69.6517044814987\n",
       "\\item 80.3091938201433\n",
       "\\item 71.3258686210032\n",
       "\\item 73.6622409399902\n",
       "\\item 64.5968604678773\n",
       "\\item 75.9894068825781\n",
       "\\item 97.5475106939925\n",
       "\\item 71.7594120501271\n",
       "\\item 81.058341900732\n",
       "\\end{enumerate*}\n"
      ],
      "text/markdown": [
       "1. 78.1628600844571\n",
       "2. 95.5986481530919\n",
       "3. 101.416686733169\n",
       "4. 81.2325267565595\n",
       "5. 83.4450800961074\n",
       "6. 73.2132011551367\n",
       "7. 79.0030985939765\n",
       "8. 84.1191527978249\n",
       "9. 75.5151242636599\n",
       "10. 83.7913735988501\n",
       "11. 67.4953952789836\n",
       "12. 60.7468376947514\n",
       "13. 71.3091636835114\n",
       "14. 68.2596620823598\n",
       "15. 63.5843506884899\n",
       "16. 62.5946956963642\n",
       "17. 88.6449005233629\n",
       "18. 87.6460048184649\n",
       "19. 89.8650564584189\n",
       "20. 75.0923280730465\n",
       "21. 87.431170393834\n",
       "22. 69.6517044814987\n",
       "23. 80.3091938201433\n",
       "24. 71.3258686210032\n",
       "25. 73.6622409399902\n",
       "26. 64.5968604678773\n",
       "27. 75.9894068825781\n",
       "28. 97.5475106939925\n",
       "29. 71.7594120501271\n",
       "30. 81.058341900732\n",
       "\n",
       "\n"
      ],
      "text/plain": [
       " [1]  78.16286  95.59865 101.41669  81.23253  83.44508  73.21320  79.00310\n",
       " [8]  84.11915  75.51512  83.79137  67.49540  60.74684  71.30916  68.25966\n",
       "[15]  63.58435  62.59470  88.64490  87.64600  89.86506  75.09233  87.43117\n",
       "[22]  69.65170  80.30919  71.32587  73.66224  64.59686  75.98941  97.54751\n",
       "[29]  71.75941  81.05834"
      ]
     },
     "metadata": {},
     "output_type": "display_data"
    }
   ],
   "source": [
    "Weight[Species == \"Reindeer\"]"
   ]
  },
  {
   "cell_type": "markdown",
   "id": "57b547cd-5282-4214-a1a2-297ad830097f",
   "metadata": {},
   "source": [
    "...so that we can compare the average weight"
   ]
  },
  {
   "cell_type": "code",
   "execution_count": 82,
   "id": "9990886d-6ac5-4e29-85de-747d0ad4c3c1",
   "metadata": {},
   "outputs": [
    {
     "data": {
      "text/html": [
       "59.092861463618"
      ],
      "text/latex": [
       "59.092861463618"
      ],
      "text/markdown": [
       "59.092861463618"
      ],
      "text/plain": [
       "[1] 59.09286"
      ]
     },
     "metadata": {},
     "output_type": "display_data"
    }
   ],
   "source": [
    "mean(Weight[Species == \"Deer\"])"
   ]
  },
  {
   "cell_type": "code",
   "execution_count": 84,
   "id": "6689c4fe-896a-4e30-b11c-6956925256bf",
   "metadata": {},
   "outputs": [
    {
     "data": {
      "text/html": [
       "78.1355952494121"
      ],
      "text/latex": [
       "78.1355952494121"
      ],
      "text/markdown": [
       "78.1355952494121"
      ],
      "text/plain": [
       "[1] 78.1356"
      ]
     },
     "metadata": {},
     "output_type": "display_data"
    }
   ],
   "source": [
    "mean(Weight[Species == \"Reindeer\"])"
   ]
  },
  {
   "cell_type": "markdown",
   "id": "9f166575-3af4-4bff-9631-9916303268b5",
   "metadata": {},
   "source": [
    "Indexing is incredibly useful. You need to know it. But it is awkward for data frames. We can make a table instead using some basic data manipulation functions. This new table is a new data frame"
   ]
  },
  {
   "cell_type": "code",
   "execution_count": 85,
   "id": "5cf24b76-ad38-4558-b685-1f0abb95f064",
   "metadata": {},
   "outputs": [],
   "source": [
    "# % takes the input and creating a output without telling it to do \"this, then this and this\"\n",
    "meanTable <- DeerStudy %>%\n",
    "    group_by(Species) %>%\n",
    "    summarize(meanWeight = mean(Weight))"
   ]
  },
  {
   "cell_type": "code",
   "execution_count": 86,
   "id": "91510085-e3e0-4206-8b29-6ebe57db237f",
   "metadata": {},
   "outputs": [
    {
     "data": {
      "text/html": [
       "<table class=\"dataframe\">\n",
       "<caption>A tibble: 2 × 2</caption>\n",
       "<thead>\n",
       "\t<tr><th scope=col>Species</th><th scope=col>meanWeight</th></tr>\n",
       "\t<tr><th scope=col>&lt;chr&gt;</th><th scope=col>&lt;dbl&gt;</th></tr>\n",
       "</thead>\n",
       "<tbody>\n",
       "\t<tr><td>Deer    </td><td>59.09286</td></tr>\n",
       "\t<tr><td>Reindeer</td><td>78.13560</td></tr>\n",
       "</tbody>\n",
       "</table>\n"
      ],
      "text/latex": [
       "A tibble: 2 × 2\n",
       "\\begin{tabular}{ll}\n",
       " Species & meanWeight\\\\\n",
       " <chr> & <dbl>\\\\\n",
       "\\hline\n",
       "\t Deer     & 59.09286\\\\\n",
       "\t Reindeer & 78.13560\\\\\n",
       "\\end{tabular}\n"
      ],
      "text/markdown": [
       "\n",
       "A tibble: 2 × 2\n",
       "\n",
       "| Species &lt;chr&gt; | meanWeight &lt;dbl&gt; |\n",
       "|---|---|\n",
       "| Deer     | 59.09286 |\n",
       "| Reindeer | 78.13560 |\n",
       "\n"
      ],
      "text/plain": [
       "  Species  meanWeight\n",
       "1 Deer     59.09286  \n",
       "2 Reindeer 78.13560  "
      ]
     },
     "metadata": {},
     "output_type": "display_data"
    }
   ],
   "source": [
    "meanTable"
   ]
  },
  {
   "cell_type": "markdown",
   "id": "f31aed63-90b9-497f-8baf-e034626dff8c",
   "metadata": {},
   "source": [
    "This is the exact same logic as with the plotting. First you define the data you are working on, then you sequentially operate on it. This is called \"piping\"."
   ]
  },
  {
   "cell_type": "markdown",
   "id": "cd8557f1-fb50-4db7-a6cc-834c89d809dd",
   "metadata": {},
   "source": [
    "The mean is only one statistic. We can also look at other statistics. How about the median?"
   ]
  },
  {
   "cell_type": "code",
   "execution_count": 87,
   "id": "7184cb98-8833-4e9b-945d-73c6276a1e16",
   "metadata": {},
   "outputs": [],
   "source": [
    "# %>% is sending the data to a new function\n",
    "medianTable <- DeerStudy %>%\n",
    "    group_by(Species) %>%\n",
    "    summarize(MedianWeight = median(Weight))"
   ]
  },
  {
   "cell_type": "code",
   "execution_count": 88,
   "id": "edbc44e9-6df0-4ebe-8e99-f7afa84b17ea",
   "metadata": {},
   "outputs": [
    {
     "data": {
      "text/html": [
       "<table class=\"dataframe\">\n",
       "<caption>A tibble: 2 × 2</caption>\n",
       "<thead>\n",
       "\t<tr><th scope=col>Species</th><th scope=col>MedianWeight</th></tr>\n",
       "\t<tr><th scope=col>&lt;chr&gt;</th><th scope=col>&lt;dbl&gt;</th></tr>\n",
       "</thead>\n",
       "<tbody>\n",
       "\t<tr><td>Deer    </td><td>58.92188</td></tr>\n",
       "\t<tr><td>Reindeer</td><td>77.07613</td></tr>\n",
       "</tbody>\n",
       "</table>\n"
      ],
      "text/latex": [
       "A tibble: 2 × 2\n",
       "\\begin{tabular}{ll}\n",
       " Species & MedianWeight\\\\\n",
       " <chr> & <dbl>\\\\\n",
       "\\hline\n",
       "\t Deer     & 58.92188\\\\\n",
       "\t Reindeer & 77.07613\\\\\n",
       "\\end{tabular}\n"
      ],
      "text/markdown": [
       "\n",
       "A tibble: 2 × 2\n",
       "\n",
       "| Species &lt;chr&gt; | MedianWeight &lt;dbl&gt; |\n",
       "|---|---|\n",
       "| Deer     | 58.92188 |\n",
       "| Reindeer | 77.07613 |\n",
       "\n"
      ],
      "text/plain": [
       "  Species  MedianWeight\n",
       "1 Deer     58.92188    \n",
       "2 Reindeer 77.07613    "
      ]
     },
     "metadata": {},
     "output_type": "display_data"
    }
   ],
   "source": [
    "medianTable"
   ]
  },
  {
   "cell_type": "markdown",
   "id": "d83c236f-8520-4227-aa14-459142bd1c0a",
   "metadata": {},
   "source": [
    "We can also look at the standard deviation."
   ]
  },
  {
   "cell_type": "code",
   "execution_count": 89,
   "id": "a56f9cc9-7436-4384-8568-5d171d4b3efb",
   "metadata": {},
   "outputs": [],
   "source": [
    "# sd for standard deviation\n",
    "sdTable <- DeerStudy %>%\n",
    "    group_by(Species) %>%\n",
    "    summarize(sdWeight = sd(Weight))"
   ]
  },
  {
   "cell_type": "code",
   "execution_count": 90,
   "id": "36645a7d-b6fc-41e8-bacc-3e748ab937e0",
   "metadata": {},
   "outputs": [
    {
     "data": {
      "text/html": [
       "<table class=\"dataframe\">\n",
       "<caption>A tibble: 2 × 2</caption>\n",
       "<thead>\n",
       "\t<tr><th scope=col>Species</th><th scope=col>sdWeight</th></tr>\n",
       "\t<tr><th scope=col>&lt;chr&gt;</th><th scope=col>&lt;dbl&gt;</th></tr>\n",
       "</thead>\n",
       "<tbody>\n",
       "\t<tr><td>Deer    </td><td>11.02919</td></tr>\n",
       "\t<tr><td>Reindeer</td><td>10.48565</td></tr>\n",
       "</tbody>\n",
       "</table>\n"
      ],
      "text/latex": [
       "A tibble: 2 × 2\n",
       "\\begin{tabular}{ll}\n",
       " Species & sdWeight\\\\\n",
       " <chr> & <dbl>\\\\\n",
       "\\hline\n",
       "\t Deer     & 11.02919\\\\\n",
       "\t Reindeer & 10.48565\\\\\n",
       "\\end{tabular}\n"
      ],
      "text/markdown": [
       "\n",
       "A tibble: 2 × 2\n",
       "\n",
       "| Species &lt;chr&gt; | sdWeight &lt;dbl&gt; |\n",
       "|---|---|\n",
       "| Deer     | 11.02919 |\n",
       "| Reindeer | 10.48565 |\n",
       "\n"
      ],
      "text/plain": [
       "  Species  sdWeight\n",
       "1 Deer     11.02919\n",
       "2 Reindeer 10.48565"
      ]
     },
     "metadata": {},
     "output_type": "display_data"
    }
   ],
   "source": [
    "sdTable"
   ]
  },
  {
   "cell_type": "markdown",
   "id": "7d9851c2-683b-4162-8228-8ca6df4e8645",
   "metadata": {},
   "source": [
    "Now we are almost ready to do some statistics. We will cover statistical concepts in the next lecture. BUt as a teaser, let's look at a quick comparison, and see if these means are really different."
   ]
  },
  {
   "cell_type": "code",
   "execution_count": 91,
   "id": "34100bd1-d979-4fd9-a31b-c552ab8cd97c",
   "metadata": {},
   "outputs": [
    {
     "data": {
      "text/plain": [
       "\n",
       "\tWelch Two Sample t-test\n",
       "\n",
       "data:  weight1 and weight2\n",
       "t = -6.8538, df = 57.852, p-value = 5.217e-09\n",
       "alternative hypothesis: true difference in means is not equal to 0\n",
       "95 percent confidence interval:\n",
       " -24.60469 -13.48078\n",
       "sample estimates:\n",
       "mean of x mean of y \n",
       " 59.09286  78.13560 \n"
      ]
     },
     "metadata": {},
     "output_type": "display_data"
    }
   ],
   "source": [
    "t.test(weight1, weight2)"
   ]
  },
  {
   "cell_type": "markdown",
   "id": "504a0793-73b2-481f-95ec-1f32b062a737",
   "metadata": {},
   "source": [
    "You have learned about indexing. You have learned about basic statistical functions. You have learned how to generate summary tables. You have run your first statistical simulation, and your first hypothesis test."
   ]
  },
  {
   "cell_type": "code",
   "execution_count": 133,
   "id": "4d17809a-2c8d-421d-8383-075b9201d50a",
   "metadata": {},
   "outputs": [],
   "source": [
    "# Variable storing how many hours of sleep each student in the class (probably) would get when they have a early class\n",
    "early_hours <- c(5, 6, 8, 7, 7, 8, 8, 4, 5, 5)"
   ]
  },
  {
   "cell_type": "code",
   "execution_count": 134,
   "id": "28898e7a-db50-4583-bcbd-4f650681c04b",
   "metadata": {},
   "outputs": [],
   "source": [
    "# Variable storing hours of sleep for todays class\n",
    "late_hours <- c(7, 6, 8, 8, 8, 7.5, 5, 7)"
   ]
  },
  {
   "cell_type": "code",
   "execution_count": 135,
   "id": "a5685617-3f6d-4fd0-b028-08e5bea92ff0",
   "metadata": {},
   "outputs": [],
   "source": [
    "# Using rep to store word \"early\" for the hours to the early class and likewise for the late\n",
    "early_class <- rep(\"early\", 10)\n",
    "late_class <- rep(\"late\", 10)"
   ]
  },
  {
   "cell_type": "code",
   "execution_count": 136,
   "id": "1e9557bb-3d48-48cd-ae1e-11558f516095",
   "metadata": {},
   "outputs": [],
   "source": [
    "#Storing the hourse of sleep other variables\n",
    "Sleep_early <- c(5, 6, 8, 7, 7, 8, 8, 4, 5, 5)\n",
    "Sleep_late <- c(7, 6, 8, 8, 8, 8, 7.5, 7, 5, 7)"
   ]
  },
  {
   "cell_type": "code",
   "execution_count": 139,
   "id": "f2ae6e43-d907-46d3-80aa-bc0583049ac9",
   "metadata": {},
   "outputs": [],
   "source": [
    "# concating the variables with classes and sleep\n",
    "Class <- c(early_class, late_class)\n",
    "Sleep <- c(Sleep_early, Sleep_late)"
   ]
  },
  {
   "cell_type": "code",
   "execution_count": 140,
   "id": "f175a290-4054-400d-a64f-7a7a5741f090",
   "metadata": {
    "scrolled": true
   },
   "outputs": [
    {
     "data": {
      "text/html": [
       "<table class=\"dataframe\">\n",
       "<caption>A data.frame: 20 × 2</caption>\n",
       "<thead>\n",
       "\t<tr><th scope=col>Sleep</th><th scope=col>Class</th></tr>\n",
       "\t<tr><th scope=col>&lt;dbl&gt;</th><th scope=col>&lt;chr&gt;</th></tr>\n",
       "</thead>\n",
       "<tbody>\n",
       "\t<tr><td>5.0</td><td>early</td></tr>\n",
       "\t<tr><td>6.0</td><td>early</td></tr>\n",
       "\t<tr><td>8.0</td><td>early</td></tr>\n",
       "\t<tr><td>7.0</td><td>early</td></tr>\n",
       "\t<tr><td>7.0</td><td>early</td></tr>\n",
       "\t<tr><td>8.0</td><td>early</td></tr>\n",
       "\t<tr><td>8.0</td><td>early</td></tr>\n",
       "\t<tr><td>4.0</td><td>early</td></tr>\n",
       "\t<tr><td>5.0</td><td>early</td></tr>\n",
       "\t<tr><td>5.0</td><td>early</td></tr>\n",
       "\t<tr><td>7.0</td><td>late </td></tr>\n",
       "\t<tr><td>6.0</td><td>late </td></tr>\n",
       "\t<tr><td>8.0</td><td>late </td></tr>\n",
       "\t<tr><td>8.0</td><td>late </td></tr>\n",
       "\t<tr><td>8.0</td><td>late </td></tr>\n",
       "\t<tr><td>8.0</td><td>late </td></tr>\n",
       "\t<tr><td>7.5</td><td>late </td></tr>\n",
       "\t<tr><td>7.0</td><td>late </td></tr>\n",
       "\t<tr><td>5.0</td><td>late </td></tr>\n",
       "\t<tr><td>7.0</td><td>late </td></tr>\n",
       "</tbody>\n",
       "</table>\n"
      ],
      "text/latex": [
       "A data.frame: 20 × 2\n",
       "\\begin{tabular}{ll}\n",
       " Sleep & Class\\\\\n",
       " <dbl> & <chr>\\\\\n",
       "\\hline\n",
       "\t 5.0 & early\\\\\n",
       "\t 6.0 & early\\\\\n",
       "\t 8.0 & early\\\\\n",
       "\t 7.0 & early\\\\\n",
       "\t 7.0 & early\\\\\n",
       "\t 8.0 & early\\\\\n",
       "\t 8.0 & early\\\\\n",
       "\t 4.0 & early\\\\\n",
       "\t 5.0 & early\\\\\n",
       "\t 5.0 & early\\\\\n",
       "\t 7.0 & late \\\\\n",
       "\t 6.0 & late \\\\\n",
       "\t 8.0 & late \\\\\n",
       "\t 8.0 & late \\\\\n",
       "\t 8.0 & late \\\\\n",
       "\t 8.0 & late \\\\\n",
       "\t 7.5 & late \\\\\n",
       "\t 7.0 & late \\\\\n",
       "\t 5.0 & late \\\\\n",
       "\t 7.0 & late \\\\\n",
       "\\end{tabular}\n"
      ],
      "text/markdown": [
       "\n",
       "A data.frame: 20 × 2\n",
       "\n",
       "| Sleep &lt;dbl&gt; | Class &lt;chr&gt; |\n",
       "|---|---|\n",
       "| 5.0 | early |\n",
       "| 6.0 | early |\n",
       "| 8.0 | early |\n",
       "| 7.0 | early |\n",
       "| 7.0 | early |\n",
       "| 8.0 | early |\n",
       "| 8.0 | early |\n",
       "| 4.0 | early |\n",
       "| 5.0 | early |\n",
       "| 5.0 | early |\n",
       "| 7.0 | late  |\n",
       "| 6.0 | late  |\n",
       "| 8.0 | late  |\n",
       "| 8.0 | late  |\n",
       "| 8.0 | late  |\n",
       "| 8.0 | late  |\n",
       "| 7.5 | late  |\n",
       "| 7.0 | late  |\n",
       "| 5.0 | late  |\n",
       "| 7.0 | late  |\n",
       "\n"
      ],
      "text/plain": [
       "   Sleep Class\n",
       "1  5.0   early\n",
       "2  6.0   early\n",
       "3  8.0   early\n",
       "4  7.0   early\n",
       "5  7.0   early\n",
       "6  8.0   early\n",
       "7  8.0   early\n",
       "8  4.0   early\n",
       "9  5.0   early\n",
       "10 5.0   early\n",
       "11 7.0   late \n",
       "12 6.0   late \n",
       "13 8.0   late \n",
       "14 8.0   late \n",
       "15 8.0   late \n",
       "16 8.0   late \n",
       "17 7.5   late \n",
       "18 7.0   late \n",
       "19 5.0   late \n",
       "20 7.0   late "
      ]
     },
     "metadata": {},
     "output_type": "display_data"
    }
   ],
   "source": [
    "# Creating a dataframe with hours of sleep and whether is was a early or late class\n",
    "ClassStudy <- data.frame(Sleep, Class)\n",
    "ClassStudy\n"
   ]
  },
  {
   "cell_type": "code",
   "execution_count": 151,
   "id": "8e27b722-b020-4851-873a-60554939543b",
   "metadata": {},
   "outputs": [
    {
     "data": {
      "image/png": "[encoded data removed]",
      "text/plain": [
       "plot without title"
      ]
     },
     "metadata": {
      "image/png": {
       "height": 420,
       "width": 420
      }
     },
     "output_type": "display_data"
    }
   ],
   "source": [
    "# Making a plot\n",
    "ggplot(ClassStudy,\n",
    "       aes(x = Class,\n",
    "           y = Sleep,\n",
    "          fill = Class)) +\n",
    "    geom_boxplot() +\n",
    "    scale_fill_manual(values = c(\"lightblue\", \"lightgreen\")) +\n",
    "    labs(title = \"Hours of sleep before class\",\n",
    "         x = \"Class\",\n",
    "         y = \"Sleep (hours)\") + \n",
    "    theme_dark()\n"
   ]
  },
  {
   "cell_type": "code",
   "execution_count": 162,
   "id": "6b9b370c-eb9a-4012-b629-f978bfa51bd1",
   "metadata": {},
   "outputs": [
    {
     "data": {
      "text/html": [
       "<table class=\"dataframe\">\n",
       "<caption>A tibble: 2 × 4</caption>\n",
       "<thead>\n",
       "\t<tr><th scope=col>Class</th><th scope=col>sd</th><th scope=col>median</th><th scope=col>mean</th></tr>\n",
       "\t<tr><th scope=col>&lt;chr&gt;</th><th scope=col>&lt;dbl&gt;</th><th scope=col>&lt;dbl&gt;</th><th scope=col>&lt;dbl&gt;</th></tr>\n",
       "</thead>\n",
       "<tbody>\n",
       "\t<tr><td>early</td><td>1.494434</td><td>6.50</td><td>6.30</td></tr>\n",
       "\t<tr><td>late </td><td>1.001388</td><td>7.25</td><td>7.15</td></tr>\n",
       "</tbody>\n",
       "</table>\n"
      ],
      "text/latex": [
       "A tibble: 2 × 4\n",
       "\\begin{tabular}{llll}\n",
       " Class & sd & median & mean\\\\\n",
       " <chr> & <dbl> & <dbl> & <dbl>\\\\\n",
       "\\hline\n",
       "\t early & 1.494434 & 6.50 & 6.30\\\\\n",
       "\t late  & 1.001388 & 7.25 & 7.15\\\\\n",
       "\\end{tabular}\n"
      ],
      "text/markdown": [
       "\n",
       "A tibble: 2 × 4\n",
       "\n",
       "| Class &lt;chr&gt; | sd &lt;dbl&gt; | median &lt;dbl&gt; | mean &lt;dbl&gt; |\n",
       "|---|---|---|---|\n",
       "| early | 1.494434 | 6.50 | 6.30 |\n",
       "| late  | 1.001388 | 7.25 | 7.15 |\n",
       "\n"
      ],
      "text/plain": [
       "  Class sd       median mean\n",
       "1 early 1.494434 6.50   6.30\n",
       "2 late  1.001388 7.25   7.15"
      ]
     },
     "metadata": {},
     "output_type": "display_data"
    }
   ],
   "source": [
    "# Create a summary table (mean, median, sd) - in a table with all of it\n",
    "\n",
    "table_of_sleep <- ClassStudy %>%\n",
    "    group_by(Class) %>%\n",
    "    summarize(sd = sd(Sleep),\n",
    "              median = median(Sleep),\n",
    "              mean = mean(Sleep))\n",
    "table_of_sleep\n"
   ]
  },
  {
   "cell_type": "code",
   "execution_count": 166,
   "id": "fd8111c6-358e-404b-a331-98b9c26706ed",
   "metadata": {},
   "outputs": [
    {
     "data": {
      "text/plain": [
       "\n",
       "\tWelch Two Sample t-test\n",
       "\n",
       "data:  early_hours and late_hours\n",
       "t = -1.2534, df = 15.892, p-value = 0.2282\n",
       "alternative hypothesis: true difference in means is not equal to 0\n",
       "95 percent confidence interval:\n",
       " -2.052871  0.527871\n",
       "sample estimates:\n",
       "mean of x mean of y \n",
       "   6.3000    7.0625 \n"
      ]
     },
     "metadata": {},
     "output_type": "display_data"
    }
   ],
   "source": [
    "# Making a t-test - the t-test shows p-value = 0.22 which means it is a wrong way to making statistics about this. \n",
    "# But now we know it will run the code whether it is correct or not\n",
    "t.test(early_hours, late_hours)"
   ]
  },
  {
   "cell_type": "code",
   "execution_count": 170,
   "id": "4fd1fc9d-6ab7-4fc1-8dda-54d448687514",
   "metadata": {},
   "outputs": [
    {
     "data": {
      "image/png": "[encoded data removed]",
      "text/plain": [
       "plot without title"
      ]
     },
     "metadata": {
      "image/png": {
       "height": 420,
       "width": 420
      }
     },
     "output_type": "display_data"
    }
   ],
   "source": [
    "# Making scatterplot\n",
    "var1 <- rnorm(50, 30, 10)\n",
    "var2 <- rnorm(50, 30, 5)\n",
    "\n",
    "vars <- data.frame(var1, var2)\n",
    "ggplot(vars,\n",
    "       aes (x = var1,\n",
    "            y = var2)) +\n",
    "    geom_point()"
   ]
  },
  {
   "cell_type": "code",
   "execution_count": null,
   "id": "96d6e679-78ba-4749-b860-ab0ee4d3b925",
   "metadata": {},
   "outputs": [],
   "source": []
  }
 ],
 "metadata": {
  "kernelspec": {
   "display_name": "R",
   "language": "R",
   "name": "ir"
  },
  "language_info": {
   "codemirror_mode": "r",
   "file_extension": ".r",
   "mimetype": "text/x-r-source",
   "name": "R",
   "pygments_lexer": "r",
   "version": "4.4.1"
  }
 },
 "nbformat": 4,
 "nbformat_minor": 5
}
